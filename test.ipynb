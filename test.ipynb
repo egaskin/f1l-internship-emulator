{
 "cells": [
  {
   "cell_type": "code",
   "execution_count": 25,
   "id": "93778bbc-1a5f-4dd0-a729-805b857156db",
   "metadata": {},
   "outputs": [],
   "source": [
    "import os\n",
    "import numpy as np\n",
    "import pandas as pd\n",
    "import scipy\n",
    "import anndata\n",
    "import scanpy as sc\n",
    "import seaborn as sns\n",
    "import scipy\n",
    "import scipy.sparse as sp\n",
    "import matplotlib.pyplot as plt"
   ]
  },
  {
   "cell_type": "markdown",
   "id": "d68f9c2a-1ba8-427b-ba7a-565d5e7aa192",
   "metadata": {},
   "source": [
    "# boolean masking on numpy array"
   ]
  },
  {
   "cell_type": "code",
   "execution_count": 30,
   "id": "e073be53-75bd-4619-93a6-ec7e971f512b",
   "metadata": {},
   "outputs": [
    {
     "name": "stdout",
     "output_type": "stream",
     "text": [
      "axis 0 sum: [[0 6]]\n",
      "axis 1 sum: [[1]\n",
      " [5]]\n"
     ]
    }
   ],
   "source": [
    "dummy1 = sp.csr_matrix(\n",
    "          [[0, 1], \n",
    "          [0, 5]]\n",
    ")\n",
    "\n",
    "\n",
    "\n",
    "print('axis 0 sum:',dummy1.sum(axis=0)) # demonstrates columnwise sum\n",
    "print('axis 1 sum:',dummy1.sum(axis=1)) # demonstrates rowwise sum"
   ]
  },
  {
   "cell_type": "code",
   "execution_count": 57,
   "id": "71e253ed-d196-4aa3-ada7-e973ab5eb501",
   "metadata": {},
   "outputs": [
    {
     "name": "stdout",
     "output_type": "stream",
     "text": [
      "[[ 2.  2. nan  0.  1.  4. nan]]\n"
     ]
    }
   ],
   "source": [
    "# https://github.com/scipy/scipy/issues/3087\n",
    "mat = sp.csr_matrix(np.array([[1, 0, np.nan,0, 2,  3, 0], \n",
    "                              [0, 1, 0,     0, -1, 0, np.nan], \n",
    "                              [1, 0, 0,     0, 0,  1, 1],\n",
    "                              [0, 1, 0,     0, 0,  0, 0]]))\n",
    "\n",
    "print(mat.sum(0))\n",
    "\n",
    "# intention is to get 1st and 2nd columns. inner operation sums the columns (see dummy1 above) then\n",
    "# np.ravel flattens the scipy matrix result to 1d array and a boolean operation is applied element wise \n",
    "desired_cols = np.ravel(mat.sum(0)) > 0 "
   ]
  },
  {
   "cell_type": "code",
   "execution_count": 58,
   "id": "5dfe8757-b20b-4f18-8160-4e3351a6e4e4",
   "metadata": {},
   "outputs": [
    {
     "data": {
      "text/plain": [
       "array([ True,  True, False, False,  True,  True, False])"
      ]
     },
     "execution_count": 58,
     "metadata": {},
     "output_type": "execute_result"
    }
   ],
   "source": [
    "desired_cols"
   ]
  },
  {
   "cell_type": "code",
   "execution_count": 59,
   "id": "131535c8-b4fa-4894-aaf0-44a18697f0d4",
   "metadata": {},
   "outputs": [
    {
     "data": {
      "text/plain": [
       "<Compressed Sparse Row sparse matrix of dtype 'float64'\n",
       "\twith 11 stored elements and shape (4, 7)>"
      ]
     },
     "execution_count": 59,
     "metadata": {},
     "output_type": "execute_result"
    }
   ],
   "source": [
    "mat"
   ]
  },
  {
   "cell_type": "code",
   "execution_count": 60,
   "id": "092f2864-7a9c-4cfb-883e-e18163cc246d",
   "metadata": {},
   "outputs": [
    {
     "ename": "IndexError",
     "evalue": "boolean row index has incorrect length: 7 instead of 4",
     "output_type": "error",
     "traceback": [
      "\u001b[0;31m---------------------------------------------------------------------------\u001b[0m",
      "\u001b[0;31mIndexError\u001b[0m                                Traceback (most recent call last)",
      "Cell \u001b[0;32mIn[60], line 1\u001b[0m\n\u001b[0;32m----> 1\u001b[0m mat[desired_cols]\n",
      "File \u001b[0;32m~/anaconda3/envs/2024-F1L/lib/python3.12/site-packages/scipy/sparse/_csr.py:24\u001b[0m, in \u001b[0;36m_csr_base.__getitem__\u001b[0;34m(self, key)\u001b[0m\n\u001b[1;32m     22\u001b[0m \u001b[38;5;28;01mdef\u001b[39;00m \u001b[38;5;21m__getitem__\u001b[39m(\u001b[38;5;28mself\u001b[39m, key):\n\u001b[1;32m     23\u001b[0m     \u001b[38;5;28;01mif\u001b[39;00m \u001b[38;5;28mself\u001b[39m\u001b[38;5;241m.\u001b[39mndim \u001b[38;5;241m==\u001b[39m \u001b[38;5;241m2\u001b[39m:\n\u001b[0;32m---> 24\u001b[0m         \u001b[38;5;28;01mreturn\u001b[39;00m \u001b[38;5;28msuper\u001b[39m()\u001b[38;5;241m.\u001b[39m\u001b[38;5;21m__getitem__\u001b[39m(key)\n\u001b[1;32m     26\u001b[0m     \u001b[38;5;28;01mif\u001b[39;00m \u001b[38;5;28misinstance\u001b[39m(key, \u001b[38;5;28mtuple\u001b[39m) \u001b[38;5;129;01mand\u001b[39;00m \u001b[38;5;28mlen\u001b[39m(key) \u001b[38;5;241m==\u001b[39m \u001b[38;5;241m1\u001b[39m:\n\u001b[1;32m     27\u001b[0m         key \u001b[38;5;241m=\u001b[39m key[\u001b[38;5;241m0\u001b[39m]\n",
      "File \u001b[0;32m~/anaconda3/envs/2024-F1L/lib/python3.12/site-packages/scipy/sparse/_index.py:52\u001b[0m, in \u001b[0;36mIndexMixin.__getitem__\u001b[0;34m(self, key)\u001b[0m\n\u001b[1;32m     51\u001b[0m \u001b[38;5;28;01mdef\u001b[39;00m \u001b[38;5;21m__getitem__\u001b[39m(\u001b[38;5;28mself\u001b[39m, key):\n\u001b[0;32m---> 52\u001b[0m     row, col \u001b[38;5;241m=\u001b[39m \u001b[38;5;28mself\u001b[39m\u001b[38;5;241m.\u001b[39m_validate_indices(key)\n\u001b[1;32m     54\u001b[0m     \u001b[38;5;66;03m# Dispatch to specialized methods.\u001b[39;00m\n\u001b[1;32m     55\u001b[0m     \u001b[38;5;28;01mif\u001b[39;00m \u001b[38;5;28misinstance\u001b[39m(row, INT_TYPES):\n",
      "File \u001b[0;32m~/anaconda3/envs/2024-F1L/lib/python3.12/site-packages/scipy/sparse/_index.py:184\u001b[0m, in \u001b[0;36mIndexMixin._validate_indices\u001b[0;34m(self, key)\u001b[0m\n\u001b[1;32m    182\u001b[0m         row \u001b[38;5;241m+\u001b[39m\u001b[38;5;241m=\u001b[39m M\n\u001b[1;32m    183\u001b[0m \u001b[38;5;28;01melif\u001b[39;00m (bool_row \u001b[38;5;241m:=\u001b[39m _compatible_boolean_index(row)) \u001b[38;5;129;01mis\u001b[39;00m \u001b[38;5;129;01mnot\u001b[39;00m \u001b[38;5;28;01mNone\u001b[39;00m:\n\u001b[0;32m--> 184\u001b[0m     row \u001b[38;5;241m=\u001b[39m _validate_bool_idx(bool_row, M, \u001b[38;5;124m\"\u001b[39m\u001b[38;5;124mrow\u001b[39m\u001b[38;5;124m\"\u001b[39m)\n\u001b[1;32m    185\u001b[0m \u001b[38;5;28;01melif\u001b[39;00m \u001b[38;5;129;01mnot\u001b[39;00m \u001b[38;5;28misinstance\u001b[39m(row, \u001b[38;5;28mslice\u001b[39m):\n\u001b[1;32m    186\u001b[0m     row \u001b[38;5;241m=\u001b[39m \u001b[38;5;28mself\u001b[39m\u001b[38;5;241m.\u001b[39m_asindices(row, M)\n",
      "File \u001b[0;32m~/anaconda3/envs/2024-F1L/lib/python3.12/site-packages/scipy/sparse/_index.py:171\u001b[0m, in \u001b[0;36mIndexMixin._validate_indices.<locals>._validate_bool_idx\u001b[0;34m(idx, axis_size, axis_name)\u001b[0m\n\u001b[1;32m    165\u001b[0m \u001b[38;5;28;01mdef\u001b[39;00m \u001b[38;5;21m_validate_bool_idx\u001b[39m(\n\u001b[1;32m    166\u001b[0m     idx: npt\u001b[38;5;241m.\u001b[39mNDArray[np\u001b[38;5;241m.\u001b[39mbool_],\n\u001b[1;32m    167\u001b[0m     axis_size: \u001b[38;5;28mint\u001b[39m,\n\u001b[1;32m    168\u001b[0m     axis_name: \u001b[38;5;28mstr\u001b[39m\n\u001b[1;32m    169\u001b[0m ) \u001b[38;5;241m-\u001b[39m\u001b[38;5;241m>\u001b[39m npt\u001b[38;5;241m.\u001b[39mNDArray[np\u001b[38;5;241m.\u001b[39mint_]:\n\u001b[1;32m    170\u001b[0m     \u001b[38;5;28;01mif\u001b[39;00m \u001b[38;5;28mlen\u001b[39m(idx) \u001b[38;5;241m!=\u001b[39m axis_size:\n\u001b[0;32m--> 171\u001b[0m         \u001b[38;5;28;01mraise\u001b[39;00m \u001b[38;5;167;01mIndexError\u001b[39;00m(\n\u001b[1;32m    172\u001b[0m             \u001b[38;5;124mf\u001b[39m\u001b[38;5;124m\"\u001b[39m\u001b[38;5;124mboolean \u001b[39m\u001b[38;5;132;01m{\u001b[39;00maxis_name\u001b[38;5;132;01m}\u001b[39;00m\u001b[38;5;124m index has incorrect length: \u001b[39m\u001b[38;5;132;01m{\u001b[39;00m\u001b[38;5;28mlen\u001b[39m(idx)\u001b[38;5;132;01m}\u001b[39;00m\u001b[38;5;124m \u001b[39m\u001b[38;5;124m\"\u001b[39m\n\u001b[1;32m    173\u001b[0m             \u001b[38;5;124mf\u001b[39m\u001b[38;5;124m\"\u001b[39m\u001b[38;5;124minstead of \u001b[39m\u001b[38;5;132;01m{\u001b[39;00maxis_size\u001b[38;5;132;01m}\u001b[39;00m\u001b[38;5;124m\"\u001b[39m\n\u001b[1;32m    174\u001b[0m         )\n\u001b[1;32m    175\u001b[0m     \u001b[38;5;28;01mreturn\u001b[39;00m _boolean_index_to_array(idx)\n",
      "\u001b[0;31mIndexError\u001b[0m: boolean row index has incorrect length: 7 instead of 4"
     ]
    }
   ],
   "source": [
    "mat[desired_cols] # tries to boolean mask rows instead of columns, so throws error"
   ]
  },
  {
   "cell_type": "code",
   "execution_count": 61,
   "id": "53621da3-8206-411d-bf4e-2a54f4277090",
   "metadata": {},
   "outputs": [
    {
     "data": {
      "text/plain": [
       "<Compressed Sparse Row sparse matrix of dtype 'float64'\n",
       "\twith 8 stored elements and shape (4, 4)>"
      ]
     },
     "execution_count": 61,
     "metadata": {},
     "output_type": "execute_result"
    }
   ],
   "source": [
    "mat.T[desired_cols].T # transposes array, applies boolean mask, then transposes back"
   ]
  },
  {
   "cell_type": "code",
   "execution_count": 62,
   "id": "9bfc675a-98e7-4fae-8a6d-f703add346f2",
   "metadata": {},
   "outputs": [
    {
     "data": {
      "text/plain": [
       "array([[ 1.,  0.,  2.,  3.],\n",
       "       [ 0.,  1., -1.,  0.],\n",
       "       [ 1.,  0.,  0.,  1.],\n",
       "       [ 0.,  1.,  0.,  0.]])"
      ]
     },
     "execution_count": 62,
     "metadata": {},
     "output_type": "execute_result"
    }
   ],
   "source": [
    "np.array(mat.T[desired_cols].T.todense()) # desired columns selected!"
   ]
  },
  {
   "cell_type": "code",
   "execution_count": null,
   "id": "3472e227-4735-406c-a5ec-954d7447ce6a",
   "metadata": {},
   "outputs": [],
   "source": []
  }
 ],
 "metadata": {
  "kernelspec": {
   "display_name": "Python 3 (ipykernel)",
   "language": "python",
   "name": "python3"
  },
  "language_info": {
   "codemirror_mode": {
    "name": "ipython",
    "version": 3
   },
   "file_extension": ".py",
   "mimetype": "text/x-python",
   "name": "python",
   "nbconvert_exporter": "python",
   "pygments_lexer": "ipython3",
   "version": "3.12.5"
  }
 },
 "nbformat": 4,
 "nbformat_minor": 5
}
