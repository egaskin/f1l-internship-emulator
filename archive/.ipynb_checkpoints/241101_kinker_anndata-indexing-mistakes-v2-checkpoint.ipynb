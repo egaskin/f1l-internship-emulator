{
 "cells": [
  {
   "cell_type": "code",
   "execution_count": 1,
   "id": "b3c003c7",
   "metadata": {
    "executionInfo": {
     "elapsed": 11701,
     "status": "ok",
     "timestamp": 1703195601975,
     "user": {
      "displayName": "Dean Lee",
      "userId": "08770626040323150090"
     },
     "user_tz": 300
    },
    "id": "b3c003c7"
   },
   "outputs": [],
   "source": [
    "import os\n",
    "import numpy as np\n",
    "import pandas as pd\n",
    "import scipy\n",
    "import anndata\n",
    "import scanpy as sc\n",
    "import seaborn as sns\n",
    "import scipy.sparse as sp\n",
    "import matplotlib.pyplot as plt"
   ]
  },
  {
   "cell_type": "markdown",
   "id": "435e5aed-7df0-488f-90d8-785bf8e12eaf",
   "metadata": {},
   "source": [
    "# NOTES TO SELF\n",
    "You can skip to \"Load Result X\" cell if that step has already been completed"
   ]
  },
  {
   "cell_type": "markdown",
   "id": "a8199072-08b3-4816-ad52-06b261ba6642",
   "metadata": {},
   "source": [
    "# load metadata\n",
    "**Note: will have to move some files around to use the commands given in F1L**"
   ]
  },
  {
   "cell_type": "code",
   "execution_count": 2,
   "id": "80b848ff",
   "metadata": {
    "colab": {
     "base_uri": "https://localhost:8080/",
     "height": 617
    },
    "executionInfo": {
     "elapsed": 1000,
     "status": "ok",
     "timestamp": 1703195755276,
     "user": {
      "displayName": "Dean Lee",
      "userId": "08770626040323150090"
     },
     "user_tz": 300
    },
    "id": "80b848ff",
    "outputId": "e4711736-eecc-46d3-850c-ea3a5a288197",
    "scrolled": true
   },
   "outputs": [
    {
     "name": "stderr",
     "output_type": "stream",
     "text": [
      "/tmp/ipykernel_1459/565737092.py:2: DtypeWarning: Columns (4,9,10,11,12,13,14,15,16,17,18,19,20) have mixed types. Specify dtype option on import or set low_memory=False.\n",
      "  meta = pd.read_csv(cwd+'/data/Metadata.txt', sep='\\t',)\n"
     ]
    },
    {
     "data": {
      "text/html": [
       "<div>\n",
       "<style scoped>\n",
       "    .dataframe tbody tr th:only-of-type {\n",
       "        vertical-align: middle;\n",
       "    }\n",
       "\n",
       "    .dataframe tbody tr th {\n",
       "        vertical-align: top;\n",
       "    }\n",
       "\n",
       "    .dataframe thead th {\n",
       "        text-align: right;\n",
       "    }\n",
       "</style>\n",
       "<table border=\"1\" class=\"dataframe\">\n",
       "  <thead>\n",
       "    <tr style=\"text-align: right;\">\n",
       "      <th></th>\n",
       "      <th>CellID</th>\n",
       "      <th>CellLine</th>\n",
       "      <th>Pool</th>\n",
       "      <th>Indication</th>\n",
       "      <th>Genes_expressed</th>\n",
       "      <th>Discrete_cluster_minpts5_eps1.8</th>\n",
       "      <th>Discrete_cluster_minpts5_eps1.5</th>\n",
       "      <th>Discrete_cluster_minpts5_eps1.2</th>\n",
       "      <th>CNA_subclone</th>\n",
       "      <th>SkinPig_score</th>\n",
       "      <th>...</th>\n",
       "      <th>EMTII_score</th>\n",
       "      <th>EMTIII_score</th>\n",
       "      <th>IFNResp_score</th>\n",
       "      <th>p53Sen_score</th>\n",
       "      <th>EpiSen_score</th>\n",
       "      <th>StressResp_score</th>\n",
       "      <th>ProtMatu_score</th>\n",
       "      <th>ProtDegra_score</th>\n",
       "      <th>G1/S_score</th>\n",
       "      <th>G2/M_score</th>\n",
       "    </tr>\n",
       "  </thead>\n",
       "  <tbody>\n",
       "    <tr>\n",
       "      <th>1</th>\n",
       "      <td>AAACCTGAGACATAAC-1-18</td>\n",
       "      <td>NCIH2126_LUNG</td>\n",
       "      <td>18</td>\n",
       "      <td>Lung Cancer</td>\n",
       "      <td>4318</td>\n",
       "      <td>NaN</td>\n",
       "      <td>NaN</td>\n",
       "      <td>NaN</td>\n",
       "      <td>NaN</td>\n",
       "      <td>0.166</td>\n",
       "      <td>...</td>\n",
       "      <td>-0.935</td>\n",
       "      <td>-0.935</td>\n",
       "      <td>0.13</td>\n",
       "      <td>0.619</td>\n",
       "      <td>1.869</td>\n",
       "      <td>-0.004</td>\n",
       "      <td>0.805</td>\n",
       "      <td>0.896</td>\n",
       "      <td>0.424</td>\n",
       "      <td>-1.125</td>\n",
       "    </tr>\n",
       "    <tr>\n",
       "      <th>2</th>\n",
       "      <td>AACGTTGTCACCCGAG-1-18</td>\n",
       "      <td>NCIH2126_LUNG</td>\n",
       "      <td>18</td>\n",
       "      <td>Lung Cancer</td>\n",
       "      <td>5200</td>\n",
       "      <td>NaN</td>\n",
       "      <td>NaN</td>\n",
       "      <td>NaN</td>\n",
       "      <td>NaN</td>\n",
       "      <td>-0.213</td>\n",
       "      <td>...</td>\n",
       "      <td>-1.027</td>\n",
       "      <td>-1.027</td>\n",
       "      <td>0.066</td>\n",
       "      <td>1.049</td>\n",
       "      <td>1.267</td>\n",
       "      <td>0.252</td>\n",
       "      <td>1.299</td>\n",
       "      <td>1.61</td>\n",
       "      <td>0.624</td>\n",
       "      <td>-0.048</td>\n",
       "    </tr>\n",
       "    <tr>\n",
       "      <th>3</th>\n",
       "      <td>AACTGGTAGACACGAC-1-18</td>\n",
       "      <td>NCIH2126_LUNG</td>\n",
       "      <td>18</td>\n",
       "      <td>Lung Cancer</td>\n",
       "      <td>4004</td>\n",
       "      <td>NaN</td>\n",
       "      <td>NaN</td>\n",
       "      <td>NaN</td>\n",
       "      <td>NaN</td>\n",
       "      <td>-0.101</td>\n",
       "      <td>...</td>\n",
       "      <td>-0.677</td>\n",
       "      <td>-0.677</td>\n",
       "      <td>0.304</td>\n",
       "      <td>0.822</td>\n",
       "      <td>2.401</td>\n",
       "      <td>0.141</td>\n",
       "      <td>0.451</td>\n",
       "      <td>1.225</td>\n",
       "      <td>-0.795</td>\n",
       "      <td>0.064</td>\n",
       "    </tr>\n",
       "    <tr>\n",
       "      <th>4</th>\n",
       "      <td>AACTGGTAGGGCTTGA-1-18</td>\n",
       "      <td>NCIH2126_LUNG</td>\n",
       "      <td>18</td>\n",
       "      <td>Lung Cancer</td>\n",
       "      <td>4295</td>\n",
       "      <td>NaN</td>\n",
       "      <td>NaN</td>\n",
       "      <td>NaN</td>\n",
       "      <td>NaN</td>\n",
       "      <td>-0.014</td>\n",
       "      <td>...</td>\n",
       "      <td>-0.735</td>\n",
       "      <td>-0.735</td>\n",
       "      <td>0.094</td>\n",
       "      <td>0.834</td>\n",
       "      <td>2.282</td>\n",
       "      <td>0.15</td>\n",
       "      <td>0.267</td>\n",
       "      <td>0.892</td>\n",
       "      <td>-0.238</td>\n",
       "      <td>1.118</td>\n",
       "    </tr>\n",
       "    <tr>\n",
       "      <th>5</th>\n",
       "      <td>AACTGGTAGTACTTGC-1-18</td>\n",
       "      <td>NCIH2126_LUNG</td>\n",
       "      <td>18</td>\n",
       "      <td>Lung Cancer</td>\n",
       "      <td>4842</td>\n",
       "      <td>NaN</td>\n",
       "      <td>NaN</td>\n",
       "      <td>NaN</td>\n",
       "      <td>NaN</td>\n",
       "      <td>0.006</td>\n",
       "      <td>...</td>\n",
       "      <td>-0.821</td>\n",
       "      <td>-0.821</td>\n",
       "      <td>0.034</td>\n",
       "      <td>0.96</td>\n",
       "      <td>1.4</td>\n",
       "      <td>-0.012</td>\n",
       "      <td>-0.276</td>\n",
       "      <td>-0.428</td>\n",
       "      <td>0.267</td>\n",
       "      <td>0.791</td>\n",
       "    </tr>\n",
       "    <tr>\n",
       "      <th>...</th>\n",
       "      <td>...</td>\n",
       "      <td>...</td>\n",
       "      <td>...</td>\n",
       "      <td>...</td>\n",
       "      <td>...</td>\n",
       "      <td>...</td>\n",
       "      <td>...</td>\n",
       "      <td>...</td>\n",
       "      <td>...</td>\n",
       "      <td>...</td>\n",
       "      <td>...</td>\n",
       "      <td>...</td>\n",
       "      <td>...</td>\n",
       "      <td>...</td>\n",
       "      <td>...</td>\n",
       "      <td>...</td>\n",
       "      <td>...</td>\n",
       "      <td>...</td>\n",
       "      <td>...</td>\n",
       "      <td>...</td>\n",
       "      <td>...</td>\n",
       "    </tr>\n",
       "    <tr>\n",
       "      <th>53509</th>\n",
       "      <td>c4722</td>\n",
       "      <td>JHU006_UPPER_AERODIGESTIVE_TRACT</td>\n",
       "      <td>custom</td>\n",
       "      <td>Head and Neck Cancer</td>\n",
       "      <td>3343</td>\n",
       "      <td>NaN</td>\n",
       "      <td>NaN</td>\n",
       "      <td>NaN</td>\n",
       "      <td>NaN</td>\n",
       "      <td>0.018</td>\n",
       "      <td>...</td>\n",
       "      <td>-0.505</td>\n",
       "      <td>-0.505</td>\n",
       "      <td>1.657</td>\n",
       "      <td>1.583</td>\n",
       "      <td>3.85</td>\n",
       "      <td>0.539</td>\n",
       "      <td>0.473</td>\n",
       "      <td>0.544</td>\n",
       "      <td>-1.079</td>\n",
       "      <td>-1.349</td>\n",
       "    </tr>\n",
       "    <tr>\n",
       "      <th>53510</th>\n",
       "      <td>c4724</td>\n",
       "      <td>JHU006_UPPER_AERODIGESTIVE_TRACT</td>\n",
       "      <td>custom</td>\n",
       "      <td>Head and Neck Cancer</td>\n",
       "      <td>6977</td>\n",
       "      <td>NaN</td>\n",
       "      <td>NaN</td>\n",
       "      <td>NaN</td>\n",
       "      <td>NaN</td>\n",
       "      <td>-0.098</td>\n",
       "      <td>...</td>\n",
       "      <td>-0.876</td>\n",
       "      <td>-0.876</td>\n",
       "      <td>0.669</td>\n",
       "      <td>1.086</td>\n",
       "      <td>3.046</td>\n",
       "      <td>0.799</td>\n",
       "      <td>0.49</td>\n",
       "      <td>1.319</td>\n",
       "      <td>-0.37</td>\n",
       "      <td>0.057</td>\n",
       "    </tr>\n",
       "    <tr>\n",
       "      <th>53511</th>\n",
       "      <td>c4731</td>\n",
       "      <td>JHU006_UPPER_AERODIGESTIVE_TRACT</td>\n",
       "      <td>custom</td>\n",
       "      <td>Head and Neck Cancer</td>\n",
       "      <td>6638</td>\n",
       "      <td>NaN</td>\n",
       "      <td>NaN</td>\n",
       "      <td>NaN</td>\n",
       "      <td>NaN</td>\n",
       "      <td>-0.112</td>\n",
       "      <td>...</td>\n",
       "      <td>-0.112</td>\n",
       "      <td>-0.112</td>\n",
       "      <td>0.61</td>\n",
       "      <td>0.693</td>\n",
       "      <td>2.289</td>\n",
       "      <td>0.65</td>\n",
       "      <td>0.729</td>\n",
       "      <td>1.143</td>\n",
       "      <td>-0.508</td>\n",
       "      <td>0.501</td>\n",
       "    </tr>\n",
       "    <tr>\n",
       "      <th>53512</th>\n",
       "      <td>c4735</td>\n",
       "      <td>JHU006_UPPER_AERODIGESTIVE_TRACT</td>\n",
       "      <td>custom</td>\n",
       "      <td>Head and Neck Cancer</td>\n",
       "      <td>4052</td>\n",
       "      <td>NaN</td>\n",
       "      <td>NaN</td>\n",
       "      <td>NaN</td>\n",
       "      <td>NaN</td>\n",
       "      <td>-0.244</td>\n",
       "      <td>...</td>\n",
       "      <td>1.981</td>\n",
       "      <td>1.981</td>\n",
       "      <td>0.523</td>\n",
       "      <td>-0.309</td>\n",
       "      <td>0.267</td>\n",
       "      <td>0.822</td>\n",
       "      <td>1.049</td>\n",
       "      <td>0.777</td>\n",
       "      <td>0.296</td>\n",
       "      <td>-0.936</td>\n",
       "    </tr>\n",
       "    <tr>\n",
       "      <th>53513</th>\n",
       "      <td>c4741</td>\n",
       "      <td>JHU006_UPPER_AERODIGESTIVE_TRACT</td>\n",
       "      <td>custom</td>\n",
       "      <td>Head and Neck Cancer</td>\n",
       "      <td>5062</td>\n",
       "      <td>NaN</td>\n",
       "      <td>NaN</td>\n",
       "      <td>NaN</td>\n",
       "      <td>NaN</td>\n",
       "      <td>-0.054</td>\n",
       "      <td>...</td>\n",
       "      <td>1.337</td>\n",
       "      <td>1.337</td>\n",
       "      <td>0.21</td>\n",
       "      <td>0.39</td>\n",
       "      <td>0.664</td>\n",
       "      <td>0.654</td>\n",
       "      <td>0.533</td>\n",
       "      <td>0.863</td>\n",
       "      <td>-0.551</td>\n",
       "      <td>-1.292</td>\n",
       "    </tr>\n",
       "  </tbody>\n",
       "</table>\n",
       "<p>53513 rows × 21 columns</p>\n",
       "</div>"
      ],
      "text/plain": [
       "                      CellID                          CellLine    Pool  \\\n",
       "1      AAACCTGAGACATAAC-1-18                     NCIH2126_LUNG      18   \n",
       "2      AACGTTGTCACCCGAG-1-18                     NCIH2126_LUNG      18   \n",
       "3      AACTGGTAGACACGAC-1-18                     NCIH2126_LUNG      18   \n",
       "4      AACTGGTAGGGCTTGA-1-18                     NCIH2126_LUNG      18   \n",
       "5      AACTGGTAGTACTTGC-1-18                     NCIH2126_LUNG      18   \n",
       "...                      ...                               ...     ...   \n",
       "53509                  c4722  JHU006_UPPER_AERODIGESTIVE_TRACT  custom   \n",
       "53510                  c4724  JHU006_UPPER_AERODIGESTIVE_TRACT  custom   \n",
       "53511                  c4731  JHU006_UPPER_AERODIGESTIVE_TRACT  custom   \n",
       "53512                  c4735  JHU006_UPPER_AERODIGESTIVE_TRACT  custom   \n",
       "53513                  c4741  JHU006_UPPER_AERODIGESTIVE_TRACT  custom   \n",
       "\n",
       "                 Indication Genes_expressed Discrete_cluster_minpts5_eps1.8  \\\n",
       "1               Lung Cancer            4318                             NaN   \n",
       "2               Lung Cancer            5200                             NaN   \n",
       "3               Lung Cancer            4004                             NaN   \n",
       "4               Lung Cancer            4295                             NaN   \n",
       "5               Lung Cancer            4842                             NaN   \n",
       "...                     ...             ...                             ...   \n",
       "53509  Head and Neck Cancer            3343                             NaN   \n",
       "53510  Head and Neck Cancer            6977                             NaN   \n",
       "53511  Head and Neck Cancer            6638                             NaN   \n",
       "53512  Head and Neck Cancer            4052                             NaN   \n",
       "53513  Head and Neck Cancer            5062                             NaN   \n",
       "\n",
       "      Discrete_cluster_minpts5_eps1.5 Discrete_cluster_minpts5_eps1.2  \\\n",
       "1                                 NaN                             NaN   \n",
       "2                                 NaN                             NaN   \n",
       "3                                 NaN                             NaN   \n",
       "4                                 NaN                             NaN   \n",
       "5                                 NaN                             NaN   \n",
       "...                               ...                             ...   \n",
       "53509                             NaN                             NaN   \n",
       "53510                             NaN                             NaN   \n",
       "53511                             NaN                             NaN   \n",
       "53512                             NaN                             NaN   \n",
       "53513                             NaN                             NaN   \n",
       "\n",
       "      CNA_subclone SkinPig_score  ... EMTII_score EMTIII_score IFNResp_score  \\\n",
       "1              NaN         0.166  ...      -0.935       -0.935          0.13   \n",
       "2              NaN        -0.213  ...      -1.027       -1.027         0.066   \n",
       "3              NaN        -0.101  ...      -0.677       -0.677         0.304   \n",
       "4              NaN        -0.014  ...      -0.735       -0.735         0.094   \n",
       "5              NaN         0.006  ...      -0.821       -0.821         0.034   \n",
       "...            ...           ...  ...         ...          ...           ...   \n",
       "53509          NaN         0.018  ...      -0.505       -0.505         1.657   \n",
       "53510          NaN        -0.098  ...      -0.876       -0.876         0.669   \n",
       "53511          NaN        -0.112  ...      -0.112       -0.112          0.61   \n",
       "53512          NaN        -0.244  ...       1.981        1.981         0.523   \n",
       "53513          NaN        -0.054  ...       1.337        1.337          0.21   \n",
       "\n",
       "      p53Sen_score EpiSen_score StressResp_score ProtMatu_score  \\\n",
       "1            0.619        1.869           -0.004          0.805   \n",
       "2            1.049        1.267            0.252          1.299   \n",
       "3            0.822        2.401            0.141          0.451   \n",
       "4            0.834        2.282             0.15          0.267   \n",
       "5             0.96          1.4           -0.012         -0.276   \n",
       "...            ...          ...              ...            ...   \n",
       "53509        1.583         3.85            0.539          0.473   \n",
       "53510        1.086        3.046            0.799           0.49   \n",
       "53511        0.693        2.289             0.65          0.729   \n",
       "53512       -0.309        0.267            0.822          1.049   \n",
       "53513         0.39        0.664            0.654          0.533   \n",
       "\n",
       "      ProtDegra_score G1/S_score G2/M_score  \n",
       "1               0.896      0.424     -1.125  \n",
       "2                1.61      0.624     -0.048  \n",
       "3               1.225     -0.795      0.064  \n",
       "4               0.892     -0.238      1.118  \n",
       "5              -0.428      0.267      0.791  \n",
       "...               ...        ...        ...  \n",
       "53509           0.544     -1.079     -1.349  \n",
       "53510           1.319      -0.37      0.057  \n",
       "53511           1.143     -0.508      0.501  \n",
       "53512           0.777      0.296     -0.936  \n",
       "53513           0.863     -0.551     -1.292  \n",
       "\n",
       "[53513 rows x 21 columns]"
      ]
     },
     "execution_count": 2,
     "metadata": {},
     "output_type": "execute_result"
    }
   ],
   "source": [
    "cwd = os.getcwd()\n",
    "meta = pd.read_csv(cwd+'/data/Metadata.txt', sep='\\t',)\n",
    "meta.drop([0], axis=0, inplace=True)\n",
    "meta.rename(columns={'NAME':'CellID', 'Cell_line':'CellLine', 'Pool_ID':'Pool', 'Cancer_type':'Indication'}, inplace=True)\n",
    "meta"
   ]
  },
  {
   "cell_type": "code",
   "execution_count": 3,
   "id": "3109563c-0739-4cee-a113-eddf3ec8f78c",
   "metadata": {},
   "outputs": [
    {
     "data": {
      "text/plain": [
       "CellID                             object\n",
       "CellLine                           object\n",
       "Pool                               object\n",
       "Indication                         object\n",
       "Genes_expressed                    object\n",
       "Discrete_cluster_minpts5_eps1.8    object\n",
       "Discrete_cluster_minpts5_eps1.5    object\n",
       "Discrete_cluster_minpts5_eps1.2    object\n",
       "CNA_subclone                       object\n",
       "SkinPig_score                      object\n",
       "EMTI_score                         object\n",
       "EMTII_score                        object\n",
       "EMTIII_score                       object\n",
       "IFNResp_score                      object\n",
       "p53Sen_score                       object\n",
       "EpiSen_score                       object\n",
       "StressResp_score                   object\n",
       "ProtMatu_score                     object\n",
       "ProtDegra_score                    object\n",
       "G1/S_score                         object\n",
       "G2/M_score                         object\n",
       "dtype: object"
      ]
     },
     "execution_count": 3,
     "metadata": {},
     "output_type": "execute_result"
    }
   ],
   "source": [
    "meta.dtypes"
   ]
  },
  {
   "cell_type": "code",
   "execution_count": 4,
   "id": "4632ccee-1eba-40ee-baa9-cc73bf43ef5f",
   "metadata": {},
   "outputs": [],
   "source": [
    "# # I THOUGHT THAT \"Discrete_cluster_minpts5_eps1.8\" were numeric values, but turns out\n",
    "# # they are strings. i leave this here as a reminder\n",
    "\n",
    "# display(meta.loc[:,\"Discrete_cluster_minpts5_eps1.8\"])\n",
    "# np.array(meta.loc[:,\"Discrete_cluster_minpts5_eps1.8\"],dtype=np.float32)\n",
    "# # print(\"number NaN = \",sum(np.isnan()))\n",
    "\n",
    "# # plt.plot(meta.loc[:,\"Discrete_cluster_minpts5_eps1.8\"],bins=10, edgecolor='k', alpha=0.7)"
   ]
  },
  {
   "cell_type": "code",
   "execution_count": 5,
   "id": "8ae5a9e2-c2a2-4959-ad3f-58218ca10372",
   "metadata": {
    "scrolled": true
   },
   "outputs": [
    {
     "name": "stdout",
     "output_type": "stream",
     "text": [
      "CellID                              object\n",
      "CellLine                            object\n",
      "Pool                                object\n",
      "Indication                          object\n",
      "Genes_expressed                      int32\n",
      "Discrete_cluster_minpts5_eps1.8     object\n",
      "Discrete_cluster_minpts5_eps1.5     object\n",
      "Discrete_cluster_minpts5_eps1.2     object\n",
      "CNA_subclone                        object\n",
      "SkinPig_score                      float32\n",
      "EMTI_score                         float32\n",
      "EMTII_score                        float32\n",
      "EMTIII_score                       float32\n",
      "IFNResp_score                      float32\n",
      "p53Sen_score                       float32\n",
      "EpiSen_score                       float32\n",
      "StressResp_score                   float32\n",
      "ProtMatu_score                     float32\n",
      "ProtDegra_score                    float32\n",
      "G1/S_score                         float32\n",
      "G2/M_score                         float32\n",
      "dtype: object\n"
     ]
    }
   ],
   "source": [
    "# Iterate through the columns and change their type\n",
    "for col in meta.columns:\n",
    "    lowercase_name = col.lower() # get name (case insensitive)\n",
    "    if \"score\" in lowercase_name:  # Check if 'score' is in the column name \n",
    "        meta[col] = meta[col].astype(np.float32)\n",
    "    elif \"expressed\" in lowercase_name:\n",
    "        meta[col] = meta[col].astype(np.int32) \n",
    "    else:\n",
    "        meta[col] = meta[col].astype(str)\n",
    "\n",
    "print(meta.dtypes)"
   ]
  },
  {
   "cell_type": "markdown",
   "id": "bcafb77a-3a96-4a32-9a27-c2950ab3bfa1",
   "metadata": {},
   "source": [
    "# load cell ids\n",
    "because large amount of data, we only do the first 10 rows to see what we're working with"
   ]
  },
  {
   "cell_type": "code",
   "execution_count": 6,
   "id": "915d912b",
   "metadata": {
    "scrolled": true
   },
   "outputs": [
    {
     "data": {
      "text/html": [
       "<div>\n",
       "<style scoped>\n",
       "    .dataframe tbody tr th:only-of-type {\n",
       "        vertical-align: middle;\n",
       "    }\n",
       "\n",
       "    .dataframe tbody tr th {\n",
       "        vertical-align: top;\n",
       "    }\n",
       "\n",
       "    .dataframe thead th {\n",
       "        text-align: right;\n",
       "    }\n",
       "</style>\n",
       "<table border=\"1\" class=\"dataframe\">\n",
       "  <thead>\n",
       "    <tr style=\"text-align: right;\">\n",
       "      <th></th>\n",
       "      <th>0</th>\n",
       "      <th>1</th>\n",
       "      <th>2</th>\n",
       "      <th>3</th>\n",
       "      <th>4</th>\n",
       "      <th>5</th>\n",
       "      <th>6</th>\n",
       "      <th>7</th>\n",
       "      <th>8</th>\n",
       "      <th>9</th>\n",
       "      <th>...</th>\n",
       "      <th>56973</th>\n",
       "      <th>56974</th>\n",
       "      <th>56975</th>\n",
       "      <th>56976</th>\n",
       "      <th>56977</th>\n",
       "      <th>56978</th>\n",
       "      <th>56979</th>\n",
       "      <th>56980</th>\n",
       "      <th>56981</th>\n",
       "      <th>56982</th>\n",
       "    </tr>\n",
       "  </thead>\n",
       "  <tbody>\n",
       "    <tr>\n",
       "      <th>0</th>\n",
       "      <td>NaN</td>\n",
       "      <td>AAACCTGAGACATAAC-1-18</td>\n",
       "      <td>AAACCTGCACAACGCC-1-18</td>\n",
       "      <td>AAACCTGCAGACAAGC-1-18</td>\n",
       "      <td>AAACCTGCAGCTCGAC-1-18</td>\n",
       "      <td>AAACCTGCATGGATGG-1-18</td>\n",
       "      <td>AAACCTGGTACGAAAT-1-18</td>\n",
       "      <td>AAACGGGAGATACACA-1-18</td>\n",
       "      <td>AAACGGGCAGGTGCCT-1-18</td>\n",
       "      <td>AAACGGGGTTTAGGAA-1-18</td>\n",
       "      <td>...</td>\n",
       "      <td>c4781</td>\n",
       "      <td>c4784</td>\n",
       "      <td>c4785</td>\n",
       "      <td>c4786</td>\n",
       "      <td>c4787</td>\n",
       "      <td>c4788</td>\n",
       "      <td>c4789</td>\n",
       "      <td>c4793</td>\n",
       "      <td>c4800</td>\n",
       "      <td>c4812</td>\n",
       "    </tr>\n",
       "    <tr>\n",
       "      <th>1</th>\n",
       "      <td>Cell_line</td>\n",
       "      <td>NCIH2126_LUNG</td>\n",
       "      <td>SW579_THYROID</td>\n",
       "      <td>C32_SKIN</td>\n",
       "      <td>SW579_THYROID</td>\n",
       "      <td>NCIH446_LUNG</td>\n",
       "      <td>HEC251_ENDOMETRIUM</td>\n",
       "      <td>MFE319_ENDOMETRIUM</td>\n",
       "      <td>SKNAS_AUTONOMIC_GANGLIA</td>\n",
       "      <td>NCIH2452_PLEURA</td>\n",
       "      <td>...</td>\n",
       "      <td>SCC25_UPPER_AERODIGESTIVE_TRACT</td>\n",
       "      <td>SCC25_UPPER_AERODIGESTIVE_TRACT</td>\n",
       "      <td>SCC25_UPPER_AERODIGESTIVE_TRACT</td>\n",
       "      <td>SCC25_UPPER_AERODIGESTIVE_TRACT</td>\n",
       "      <td>93VU_UPPER_AERODIGESTIVE_TRACT</td>\n",
       "      <td>JHU029_UPPER_AERODIGESTIVE_TRACT</td>\n",
       "      <td>SCC9_UPPER_AERODIGESTIVE_TRACT</td>\n",
       "      <td>JHU029_UPPER_AERODIGESTIVE_TRACT</td>\n",
       "      <td>SCC9_UPPER_AERODIGESTIVE_TRACT</td>\n",
       "      <td>SCC9_UPPER_AERODIGESTIVE_TRACT</td>\n",
       "    </tr>\n",
       "    <tr>\n",
       "      <th>2</th>\n",
       "      <td>Pool_ID</td>\n",
       "      <td>18</td>\n",
       "      <td>18</td>\n",
       "      <td>18</td>\n",
       "      <td>18</td>\n",
       "      <td>18</td>\n",
       "      <td>18</td>\n",
       "      <td>18</td>\n",
       "      <td>18</td>\n",
       "      <td>18</td>\n",
       "      <td>...</td>\n",
       "      <td>custom</td>\n",
       "      <td>custom</td>\n",
       "      <td>custom</td>\n",
       "      <td>custom</td>\n",
       "      <td>custom</td>\n",
       "      <td>custom</td>\n",
       "      <td>custom</td>\n",
       "      <td>custom</td>\n",
       "      <td>custom</td>\n",
       "      <td>custom</td>\n",
       "    </tr>\n",
       "    <tr>\n",
       "      <th>3</th>\n",
       "      <td>A1BG</td>\n",
       "      <td>0</td>\n",
       "      <td>1</td>\n",
       "      <td>1</td>\n",
       "      <td>1</td>\n",
       "      <td>0</td>\n",
       "      <td>2</td>\n",
       "      <td>0</td>\n",
       "      <td>0</td>\n",
       "      <td>0</td>\n",
       "      <td>...</td>\n",
       "      <td>0</td>\n",
       "      <td>0</td>\n",
       "      <td>0</td>\n",
       "      <td>0</td>\n",
       "      <td>0</td>\n",
       "      <td>1</td>\n",
       "      <td>0</td>\n",
       "      <td>0</td>\n",
       "      <td>0</td>\n",
       "      <td>1</td>\n",
       "    </tr>\n",
       "    <tr>\n",
       "      <th>4</th>\n",
       "      <td>A1BG-AS1</td>\n",
       "      <td>0</td>\n",
       "      <td>0</td>\n",
       "      <td>0</td>\n",
       "      <td>0</td>\n",
       "      <td>0</td>\n",
       "      <td>0</td>\n",
       "      <td>0</td>\n",
       "      <td>0</td>\n",
       "      <td>0</td>\n",
       "      <td>...</td>\n",
       "      <td>0</td>\n",
       "      <td>0</td>\n",
       "      <td>0</td>\n",
       "      <td>0</td>\n",
       "      <td>0</td>\n",
       "      <td>0</td>\n",
       "      <td>0</td>\n",
       "      <td>0</td>\n",
       "      <td>0</td>\n",
       "      <td>0</td>\n",
       "    </tr>\n",
       "    <tr>\n",
       "      <th>5</th>\n",
       "      <td>A1CF</td>\n",
       "      <td>0</td>\n",
       "      <td>0</td>\n",
       "      <td>0</td>\n",
       "      <td>0</td>\n",
       "      <td>0</td>\n",
       "      <td>0</td>\n",
       "      <td>0</td>\n",
       "      <td>0</td>\n",
       "      <td>0</td>\n",
       "      <td>...</td>\n",
       "      <td>0</td>\n",
       "      <td>0</td>\n",
       "      <td>0</td>\n",
       "      <td>0</td>\n",
       "      <td>0</td>\n",
       "      <td>0</td>\n",
       "      <td>0</td>\n",
       "      <td>0</td>\n",
       "      <td>0</td>\n",
       "      <td>0</td>\n",
       "    </tr>\n",
       "    <tr>\n",
       "      <th>6</th>\n",
       "      <td>A2M</td>\n",
       "      <td>0</td>\n",
       "      <td>0</td>\n",
       "      <td>0</td>\n",
       "      <td>0</td>\n",
       "      <td>0</td>\n",
       "      <td>0</td>\n",
       "      <td>0</td>\n",
       "      <td>0</td>\n",
       "      <td>0</td>\n",
       "      <td>...</td>\n",
       "      <td>0</td>\n",
       "      <td>0</td>\n",
       "      <td>0</td>\n",
       "      <td>0</td>\n",
       "      <td>0</td>\n",
       "      <td>0</td>\n",
       "      <td>0</td>\n",
       "      <td>0</td>\n",
       "      <td>0</td>\n",
       "      <td>0</td>\n",
       "    </tr>\n",
       "    <tr>\n",
       "      <th>7</th>\n",
       "      <td>A2M-AS1</td>\n",
       "      <td>0</td>\n",
       "      <td>0</td>\n",
       "      <td>0</td>\n",
       "      <td>0</td>\n",
       "      <td>0</td>\n",
       "      <td>0</td>\n",
       "      <td>0</td>\n",
       "      <td>0</td>\n",
       "      <td>0</td>\n",
       "      <td>...</td>\n",
       "      <td>0</td>\n",
       "      <td>0</td>\n",
       "      <td>0</td>\n",
       "      <td>0</td>\n",
       "      <td>0</td>\n",
       "      <td>0</td>\n",
       "      <td>0</td>\n",
       "      <td>0</td>\n",
       "      <td>1</td>\n",
       "      <td>0</td>\n",
       "    </tr>\n",
       "    <tr>\n",
       "      <th>8</th>\n",
       "      <td>A2ML1</td>\n",
       "      <td>0</td>\n",
       "      <td>0</td>\n",
       "      <td>0</td>\n",
       "      <td>0</td>\n",
       "      <td>0</td>\n",
       "      <td>0</td>\n",
       "      <td>0</td>\n",
       "      <td>0</td>\n",
       "      <td>0</td>\n",
       "      <td>...</td>\n",
       "      <td>0</td>\n",
       "      <td>0</td>\n",
       "      <td>0</td>\n",
       "      <td>0</td>\n",
       "      <td>0</td>\n",
       "      <td>0</td>\n",
       "      <td>0</td>\n",
       "      <td>0</td>\n",
       "      <td>0</td>\n",
       "      <td>0</td>\n",
       "    </tr>\n",
       "    <tr>\n",
       "      <th>9</th>\n",
       "      <td>A2ML1-AS1</td>\n",
       "      <td>0</td>\n",
       "      <td>0</td>\n",
       "      <td>0</td>\n",
       "      <td>0</td>\n",
       "      <td>0</td>\n",
       "      <td>0</td>\n",
       "      <td>0</td>\n",
       "      <td>0</td>\n",
       "      <td>0</td>\n",
       "      <td>...</td>\n",
       "      <td>0</td>\n",
       "      <td>0</td>\n",
       "      <td>0</td>\n",
       "      <td>0</td>\n",
       "      <td>0</td>\n",
       "      <td>0</td>\n",
       "      <td>0</td>\n",
       "      <td>0</td>\n",
       "      <td>0</td>\n",
       "      <td>0</td>\n",
       "    </tr>\n",
       "  </tbody>\n",
       "</table>\n",
       "<p>10 rows × 56983 columns</p>\n",
       "</div>"
      ],
      "text/plain": [
       "       0                      1                      2      \\\n",
       "0        NaN  AAACCTGAGACATAAC-1-18  AAACCTGCACAACGCC-1-18   \n",
       "1  Cell_line          NCIH2126_LUNG          SW579_THYROID   \n",
       "2    Pool_ID                     18                     18   \n",
       "3       A1BG                      0                      1   \n",
       "4   A1BG-AS1                      0                      0   \n",
       "5       A1CF                      0                      0   \n",
       "6        A2M                      0                      0   \n",
       "7    A2M-AS1                      0                      0   \n",
       "8      A2ML1                      0                      0   \n",
       "9  A2ML1-AS1                      0                      0   \n",
       "\n",
       "                   3                      4                      5      \\\n",
       "0  AAACCTGCAGACAAGC-1-18  AAACCTGCAGCTCGAC-1-18  AAACCTGCATGGATGG-1-18   \n",
       "1               C32_SKIN          SW579_THYROID           NCIH446_LUNG   \n",
       "2                     18                     18                     18   \n",
       "3                      1                      1                      0   \n",
       "4                      0                      0                      0   \n",
       "5                      0                      0                      0   \n",
       "6                      0                      0                      0   \n",
       "7                      0                      0                      0   \n",
       "8                      0                      0                      0   \n",
       "9                      0                      0                      0   \n",
       "\n",
       "                   6                      7                        8      \\\n",
       "0  AAACCTGGTACGAAAT-1-18  AAACGGGAGATACACA-1-18    AAACGGGCAGGTGCCT-1-18   \n",
       "1     HEC251_ENDOMETRIUM     MFE319_ENDOMETRIUM  SKNAS_AUTONOMIC_GANGLIA   \n",
       "2                     18                     18                       18   \n",
       "3                      2                      0                        0   \n",
       "4                      0                      0                        0   \n",
       "5                      0                      0                        0   \n",
       "6                      0                      0                        0   \n",
       "7                      0                      0                        0   \n",
       "8                      0                      0                        0   \n",
       "9                      0                      0                        0   \n",
       "\n",
       "                   9      ...                            56973  \\\n",
       "0  AAACGGGGTTTAGGAA-1-18  ...                            c4781   \n",
       "1        NCIH2452_PLEURA  ...  SCC25_UPPER_AERODIGESTIVE_TRACT   \n",
       "2                     18  ...                           custom   \n",
       "3                      0  ...                                0   \n",
       "4                      0  ...                                0   \n",
       "5                      0  ...                                0   \n",
       "6                      0  ...                                0   \n",
       "7                      0  ...                                0   \n",
       "8                      0  ...                                0   \n",
       "9                      0  ...                                0   \n",
       "\n",
       "                             56974                            56975  \\\n",
       "0                            c4784                            c4785   \n",
       "1  SCC25_UPPER_AERODIGESTIVE_TRACT  SCC25_UPPER_AERODIGESTIVE_TRACT   \n",
       "2                           custom                           custom   \n",
       "3                                0                                0   \n",
       "4                                0                                0   \n",
       "5                                0                                0   \n",
       "6                                0                                0   \n",
       "7                                0                                0   \n",
       "8                                0                                0   \n",
       "9                                0                                0   \n",
       "\n",
       "                             56976                           56977  \\\n",
       "0                            c4786                           c4787   \n",
       "1  SCC25_UPPER_AERODIGESTIVE_TRACT  93VU_UPPER_AERODIGESTIVE_TRACT   \n",
       "2                           custom                          custom   \n",
       "3                                0                               0   \n",
       "4                                0                               0   \n",
       "5                                0                               0   \n",
       "6                                0                               0   \n",
       "7                                0                               0   \n",
       "8                                0                               0   \n",
       "9                                0                               0   \n",
       "\n",
       "                              56978                           56979  \\\n",
       "0                             c4788                           c4789   \n",
       "1  JHU029_UPPER_AERODIGESTIVE_TRACT  SCC9_UPPER_AERODIGESTIVE_TRACT   \n",
       "2                            custom                          custom   \n",
       "3                                 1                               0   \n",
       "4                                 0                               0   \n",
       "5                                 0                               0   \n",
       "6                                 0                               0   \n",
       "7                                 0                               0   \n",
       "8                                 0                               0   \n",
       "9                                 0                               0   \n",
       "\n",
       "                              56980                           56981  \\\n",
       "0                             c4793                           c4800   \n",
       "1  JHU029_UPPER_AERODIGESTIVE_TRACT  SCC9_UPPER_AERODIGESTIVE_TRACT   \n",
       "2                            custom                          custom   \n",
       "3                                 0                               0   \n",
       "4                                 0                               0   \n",
       "5                                 0                               0   \n",
       "6                                 0                               0   \n",
       "7                                 0                               1   \n",
       "8                                 0                               0   \n",
       "9                                 0                               0   \n",
       "\n",
       "                            56982  \n",
       "0                           c4812  \n",
       "1  SCC9_UPPER_AERODIGESTIVE_TRACT  \n",
       "2                          custom  \n",
       "3                               1  \n",
       "4                               0  \n",
       "5                               0  \n",
       "6                               0  \n",
       "7                               0  \n",
       "8                               0  \n",
       "9                               0  \n",
       "\n",
       "[10 rows x 56983 columns]"
      ]
     },
     "metadata": {},
     "output_type": "display_data"
    }
   ],
   "source": [
    "# the first three rows are CellID, CellLine, and Pool\n",
    "# only need the first row, CellID\n",
    "example = pd.read_csv(cwd+'/data/UMIcount_data.txt', nrows=10, sep='\\t', header=None)\n",
    "display(example)"
   ]
  },
  {
   "cell_type": "code",
   "execution_count": 7,
   "id": "ee7766fb",
   "metadata": {
    "colab": {
     "base_uri": "https://localhost:8080/",
     "height": 161
    },
    "executionInfo": {
     "elapsed": 595,
     "status": "ok",
     "timestamp": 1703199075524,
     "user": {
      "displayName": "Dean Lee",
      "userId": "08770626040323150090"
     },
     "user_tz": 300
    },
    "id": "ee7766fb",
    "outputId": "0e3de2e9-fb82-49c2-f4e8-0810c399bbcc"
   },
   "outputs": [
    {
     "name": "stdout",
     "output_type": "stream",
     "text": [
      "0    NaN\n",
      "Name: 0, dtype: object\n"
     ]
    },
    {
     "data": {
      "text/html": [
       "<div>\n",
       "<style scoped>\n",
       "    .dataframe tbody tr th:only-of-type {\n",
       "        vertical-align: middle;\n",
       "    }\n",
       "\n",
       "    .dataframe tbody tr th {\n",
       "        vertical-align: top;\n",
       "    }\n",
       "\n",
       "    .dataframe thead th {\n",
       "        text-align: right;\n",
       "    }\n",
       "</style>\n",
       "<table border=\"1\" class=\"dataframe\">\n",
       "  <thead>\n",
       "    <tr style=\"text-align: right;\">\n",
       "      <th></th>\n",
       "      <th>0</th>\n",
       "    </tr>\n",
       "  </thead>\n",
       "  <tbody>\n",
       "    <tr>\n",
       "      <th>1</th>\n",
       "      <td>AAACCTGAGACATAAC-1-18</td>\n",
       "    </tr>\n",
       "    <tr>\n",
       "      <th>2</th>\n",
       "      <td>AAACCTGCACAACGCC-1-18</td>\n",
       "    </tr>\n",
       "    <tr>\n",
       "      <th>3</th>\n",
       "      <td>AAACCTGCAGACAAGC-1-18</td>\n",
       "    </tr>\n",
       "    <tr>\n",
       "      <th>4</th>\n",
       "      <td>AAACCTGCAGCTCGAC-1-18</td>\n",
       "    </tr>\n",
       "    <tr>\n",
       "      <th>5</th>\n",
       "      <td>AAACCTGCATGGATGG-1-18</td>\n",
       "    </tr>\n",
       "    <tr>\n",
       "      <th>...</th>\n",
       "      <td>...</td>\n",
       "    </tr>\n",
       "    <tr>\n",
       "      <th>56978</th>\n",
       "      <td>c4788</td>\n",
       "    </tr>\n",
       "    <tr>\n",
       "      <th>56979</th>\n",
       "      <td>c4789</td>\n",
       "    </tr>\n",
       "    <tr>\n",
       "      <th>56980</th>\n",
       "      <td>c4793</td>\n",
       "    </tr>\n",
       "    <tr>\n",
       "      <th>56981</th>\n",
       "      <td>c4800</td>\n",
       "    </tr>\n",
       "    <tr>\n",
       "      <th>56982</th>\n",
       "      <td>c4812</td>\n",
       "    </tr>\n",
       "  </tbody>\n",
       "</table>\n",
       "<p>56982 rows × 1 columns</p>\n",
       "</div>"
      ],
      "text/plain": [
       "                           0\n",
       "1      AAACCTGAGACATAAC-1-18\n",
       "2      AAACCTGCACAACGCC-1-18\n",
       "3      AAACCTGCAGACAAGC-1-18\n",
       "4      AAACCTGCAGCTCGAC-1-18\n",
       "5      AAACCTGCATGGATGG-1-18\n",
       "...                      ...\n",
       "56978                  c4788\n",
       "56979                  c4789\n",
       "56980                  c4793\n",
       "56981                  c4800\n",
       "56982                  c4812\n",
       "\n",
       "[56982 rows x 1 columns]"
      ]
     },
     "execution_count": 7,
     "metadata": {},
     "output_type": "execute_result"
    }
   ],
   "source": [
    "counts_cellid = pd.read_csv(cwd+'/data/UMIcount_data.txt', nrows=1, sep='\\t', header=None) # get counts_cellid dataframe, 1x56983\n",
    "counts_cellid = counts_cellid.transpose() # transpose counts_cellid dataframe to 56983x1\n",
    "\n",
    "print(counts_cellid.iloc[0])\n",
    "\n",
    "# drop the NaN with label 0, see print out from line above and also the previous cell. \n",
    "# counts_cellid dataframe will be 56982x1\n",
    "counts_cellid.drop([0], inplace=True) \n",
    "counts_cellid"
   ]
  },
  {
   "cell_type": "markdown",
   "id": "92dfd22a-2cf2-4a69-8cbe-3d28bf224c59",
   "metadata": {},
   "source": [
    "# load full count data\n",
    "NOTE: if the file 'raw_adata_56982by30314.h5ad' exists, skip the next two subheadings and go straight to loading that adata object"
   ]
  },
  {
   "cell_type": "code",
   "execution_count": 8,
   "id": "329d727e-9f34-421d-add7-07bac5766d83",
   "metadata": {},
   "outputs": [
    {
     "name": "stdout",
     "output_type": "stream",
     "text": [
      "Already created this object, don't need to recreate it!\n"
     ]
    }
   ],
   "source": [
    "if os.path.exists('data/raw_adata_56982by30314.h5ad'):\n",
    "    print('Already created this object, don\\'t need to recreate it!')"
   ]
  },
  {
   "cell_type": "markdown",
   "id": "464f124b-f779-4925-9d2c-2a09ef25001b",
   "metadata": {},
   "source": [
    "## get counts matrix in sparse array format"
   ]
  },
  {
   "cell_type": "code",
   "execution_count": 9,
   "id": "dbf269e9-be29-4459-a6ca-e204f61e792a",
   "metadata": {},
   "outputs": [
    {
     "data": {
      "text/plain": [
       "56983"
      ]
     },
     "execution_count": 9,
     "metadata": {},
     "output_type": "execute_result"
    }
   ],
   "source": [
    "example.shape[1] # check we can get the exact number of cell IDs as above without hardcoding"
   ]
  },
  {
   "cell_type": "code",
   "execution_count": 77,
   "id": "b19809bb",
   "metadata": {},
   "outputs": [
    {
     "name": "stdout",
     "output_type": "stream",
     "text": [
      "CPU times: user 2min 31s, sys: 13.5 s, total: 2min 45s\n",
      "Wall time: 2min 48s\n"
     ]
    }
   ],
   "source": [
    "%%time\n",
    "\n",
    "# APPROACH 1: DIDN'T WORK, BREAKS LAPTOP\n",
    "# # we skip first 3 rows based on what we saw above when we printed the first 10 rows, since\n",
    "# # first 3 rows are CellID, CellLine, and pool\n",
    "# counts = pd.read_csv(cwd+'/data/UMIcount_data.txt', sep='\\t', skiprows=3, header=None, index_col=0)\n",
    "# counts = counts.transpose()\n",
    "# counts\n",
    "\n",
    "# APPROACH 2: DIDN'T WORK, NEED TO SKIP THINGS\n",
    "# anndata.io.read_csv(filename, delimiter=',', first_column_names=None, dtype='float32')\n",
    "# anndata.read_csv(cwd+'/data/UMIcount_data.txt', delimiter='\\t') # NOT ENOUGH OPTIONS TO SKIP ROWS OR COLS\n",
    "\n",
    "# APPROACH 3: STARTED 8:27pm-8:29pm\n",
    "counts = np.loadtxt(\n",
    "    'data/UMIcount_data.txt', \n",
    "    delimiter='\\t', \n",
    "    skiprows=3,\n",
    "    usecols=range(1,example.shape[1]) # skip first col, this is gene IDs\n",
    "    )"
   ]
  },
  {
   "cell_type": "code",
   "execution_count": 78,
   "id": "3e23574c-5bcb-4a32-86c3-eab02d6ee789",
   "metadata": {},
   "outputs": [
    {
     "name": "stdout",
     "output_type": "stream",
     "text": [
      "CPU times: user 12 μs, sys: 1e+03 ns, total: 13 μs\n",
      "Wall time: 14.8 μs\n"
     ]
    }
   ],
   "source": [
    "%%time\n",
    "counts = counts.T"
   ]
  },
  {
   "cell_type": "code",
   "execution_count": 12,
   "id": "53a49f56-b927-410b-94a5-dc1a0bcc81f7",
   "metadata": {},
   "outputs": [
    {
     "data": {
      "text/plain": [
       "(56982, 30314)"
      ]
     },
     "execution_count": 12,
     "metadata": {},
     "output_type": "execute_result"
    }
   ],
   "source": [
    "counts.shape"
   ]
  },
  {
   "cell_type": "code",
   "execution_count": 79,
   "id": "8e64f29d-fe70-4de4-acc5-7360684ff180",
   "metadata": {},
   "outputs": [
    {
     "data": {
      "text/plain": [
       "array([[0., 0., 0., ..., 1., 0., 0.],\n",
       "       [1., 0., 0., ..., 0., 0., 0.],\n",
       "       [1., 0., 0., ..., 0., 0., 0.],\n",
       "       ...,\n",
       "       [0., 0., 0., ..., 1., 0., 0.],\n",
       "       [0., 0., 0., ..., 1., 0., 0.],\n",
       "       [1., 0., 0., ..., 0., 2., 0.]])"
      ]
     },
     "execution_count": 79,
     "metadata": {},
     "output_type": "execute_result"
    }
   ],
   "source": [
    "counts"
   ]
  },
  {
   "cell_type": "code",
   "execution_count": null,
   "id": "804e3789-9ffa-464b-8464-c08228c43df4",
   "metadata": {},
   "outputs": [],
   "source": [
    "%%time\n",
    "counts[mask]"
   ]
  },
  {
   "cell_type": "code",
   "execution_count": 13,
   "id": "f9c63a25-00f3-48fe-9f5c-9e0d889a4395",
   "metadata": {},
   "outputs": [
    {
     "name": "stdout",
     "output_type": "stream",
     "text": [
      "CPU times: user 2min 6s, sys: 4.13 s, total: 2min 10s\n",
      "Wall time: 2min 10s\n"
     ]
    }
   ],
   "source": [
    "%%time\n",
    "counts = sp.csr_matrix(counts)"
   ]
  },
  {
   "cell_type": "markdown",
   "id": "81b7b9b9-4c8e-420f-9c29-36531eae59a0",
   "metadata": {},
   "source": [
    "## get gene ids"
   ]
  },
  {
   "cell_type": "code",
   "execution_count": 14,
   "id": "89b80342-6057-406b-a8c2-508bf4637cf9",
   "metadata": {},
   "outputs": [
    {
     "name": "stdout",
     "output_type": "stream",
     "text": [
      "CPU times: user 35 s, sys: 1.19 s, total: 36.2 s\n",
      "Wall time: 36.3 s\n"
     ]
    }
   ],
   "source": [
    "%%time\n",
    "\n",
    "# the first column is the gene IDs after skipping first 3 rows\n",
    "gene_ids = pd.read_csv(cwd+'/data/UMIcount_data.txt', sep='\\t', \n",
    "                       skiprows=3, header=None, usecols=[0])"
   ]
  },
  {
   "cell_type": "code",
   "execution_count": 15,
   "id": "9179c7ab-2737-4049-99d4-e85cecbc0d06",
   "metadata": {},
   "outputs": [
    {
     "data": {
      "text/plain": [
       "(30314, 1)"
      ]
     },
     "execution_count": 15,
     "metadata": {},
     "output_type": "execute_result"
    }
   ],
   "source": [
    "gene_ids.shape"
   ]
  },
  {
   "cell_type": "code",
   "execution_count": 16,
   "id": "ba0297f8-af29-4389-ba84-936a207dfdf1",
   "metadata": {},
   "outputs": [
    {
     "data": {
      "text/plain": [
       "0                  A1BG\n",
       "1              A1BG-AS1\n",
       "2                  A1CF\n",
       "3                   A2M\n",
       "4               A2M-AS1\n",
       "              ...      \n",
       "30309           SPATA13\n",
       "30310           TBC1D26\n",
       "30311           TIMM10B\n",
       "30312            TMBIM4\n",
       "30313    TMEM256-PLSCR3\n",
       "Name: 0, Length: 30314, dtype: object"
      ]
     },
     "execution_count": 16,
     "metadata": {},
     "output_type": "execute_result"
    }
   ],
   "source": [
    "gene_ids[0]"
   ]
  },
  {
   "cell_type": "markdown",
   "id": "8e5fbaf7-ef86-4598-8316-fb2edcbc50f5",
   "metadata": {},
   "source": [
    "## get gene_ids and counts matrix into AnnData, and save"
   ]
  },
  {
   "cell_type": "code",
   "execution_count": 17,
   "id": "66555958-4982-423a-ad12-4d0f71d65b77",
   "metadata": {},
   "outputs": [
    {
     "name": "stdout",
     "output_type": "stream",
     "text": [
      "good 1\n",
      "good 2\n",
      "CPU times: user 1.13 s, sys: 4.21 s, total: 5.35 s\n",
      "Wall time: 6.27 s\n"
     ]
    }
   ],
   "source": [
    "%%time\n",
    "adata = anndata.AnnData(X=counts)\n",
    "print('good 1')\n",
    "adata.var_names = gene_ids[0]\n",
    "print('good 2')\n",
    "adata.write('data/raw_adata_56982by30314.h5ad')"
   ]
  },
  {
   "cell_type": "markdown",
   "id": "05b84c71-5d44-42fc-88b3-40bd334c68d1",
   "metadata": {},
   "source": [
    "### Load result cell 1\n",
    "Raw adata, still has extra cells which don't have CellIDs in metadata (QC sequences?)"
   ]
  },
  {
   "cell_type": "code",
   "execution_count": 74,
   "id": "3c39a00a-2e99-4782-a75c-c0ecf514576b",
   "metadata": {},
   "outputs": [
    {
     "name": "stdout",
     "output_type": "stream",
     "text": [
      "CPU times: user 780 ms, sys: 2.4 s, total: 3.18 s\n",
      "Wall time: 10.8 s\n"
     ]
    }
   ],
   "source": [
    "%%time\n",
    "adata = anndata.read_h5ad('data/raw_adata_56982by30314.h5ad')"
   ]
  },
  {
   "cell_type": "markdown",
   "id": "49280d70-c1f8-4f75-b592-56718d469e12",
   "metadata": {},
   "source": [
    "## Drop CellIDs (obs) that are NOT in meta['CellID'] column\n",
    "SECTION COMPLETED, SKIP TO \"LOAD RESULT CELL 2\""
   ]
  },
  {
   "cell_type": "code",
   "execution_count": 19,
   "id": "2eda2e66-5ca5-42f8-b64b-f9eac12154cd",
   "metadata": {},
   "outputs": [
    {
     "data": {
      "text/html": [
       "<div>\n",
       "<style scoped>\n",
       "    .dataframe tbody tr th:only-of-type {\n",
       "        vertical-align: middle;\n",
       "    }\n",
       "\n",
       "    .dataframe tbody tr th {\n",
       "        vertical-align: top;\n",
       "    }\n",
       "\n",
       "    .dataframe thead th {\n",
       "        text-align: right;\n",
       "    }\n",
       "</style>\n",
       "<table border=\"1\" class=\"dataframe\">\n",
       "  <thead>\n",
       "    <tr style=\"text-align: right;\">\n",
       "      <th></th>\n",
       "      <th>0</th>\n",
       "    </tr>\n",
       "  </thead>\n",
       "  <tbody>\n",
       "    <tr>\n",
       "      <th>1</th>\n",
       "      <td>AAACCTGAGACATAAC-1-18</td>\n",
       "    </tr>\n",
       "    <tr>\n",
       "      <th>2</th>\n",
       "      <td>AAACCTGCACAACGCC-1-18</td>\n",
       "    </tr>\n",
       "    <tr>\n",
       "      <th>3</th>\n",
       "      <td>AAACCTGCAGACAAGC-1-18</td>\n",
       "    </tr>\n",
       "    <tr>\n",
       "      <th>4</th>\n",
       "      <td>AAACCTGCAGCTCGAC-1-18</td>\n",
       "    </tr>\n",
       "    <tr>\n",
       "      <th>5</th>\n",
       "      <td>AAACCTGCATGGATGG-1-18</td>\n",
       "    </tr>\n",
       "    <tr>\n",
       "      <th>...</th>\n",
       "      <td>...</td>\n",
       "    </tr>\n",
       "    <tr>\n",
       "      <th>56978</th>\n",
       "      <td>c4788</td>\n",
       "    </tr>\n",
       "    <tr>\n",
       "      <th>56979</th>\n",
       "      <td>c4789</td>\n",
       "    </tr>\n",
       "    <tr>\n",
       "      <th>56980</th>\n",
       "      <td>c4793</td>\n",
       "    </tr>\n",
       "    <tr>\n",
       "      <th>56981</th>\n",
       "      <td>c4800</td>\n",
       "    </tr>\n",
       "    <tr>\n",
       "      <th>56982</th>\n",
       "      <td>c4812</td>\n",
       "    </tr>\n",
       "  </tbody>\n",
       "</table>\n",
       "<p>56982 rows × 1 columns</p>\n",
       "</div>"
      ],
      "text/plain": [
       "                           0\n",
       "1      AAACCTGAGACATAAC-1-18\n",
       "2      AAACCTGCACAACGCC-1-18\n",
       "3      AAACCTGCAGACAAGC-1-18\n",
       "4      AAACCTGCAGCTCGAC-1-18\n",
       "5      AAACCTGCATGGATGG-1-18\n",
       "...                      ...\n",
       "56978                  c4788\n",
       "56979                  c4789\n",
       "56980                  c4793\n",
       "56981                  c4800\n",
       "56982                  c4812\n",
       "\n",
       "[56982 rows x 1 columns]"
      ]
     },
     "metadata": {},
     "output_type": "display_data"
    }
   ],
   "source": [
    "display(counts_cellid)"
   ]
  },
  {
   "cell_type": "code",
   "execution_count": 20,
   "id": "a453a67c-59af-477a-831d-16d26146cca7",
   "metadata": {},
   "outputs": [
    {
     "data": {
      "text/plain": [
       "AnnData object with n_obs × n_vars = 56982 × 30314"
      ]
     },
     "execution_count": 20,
     "metadata": {},
     "output_type": "execute_result"
    }
   ],
   "source": [
    "adata"
   ]
  },
  {
   "cell_type": "code",
   "execution_count": 21,
   "id": "db6ac2d1-7e44-4c4e-9385-bdc03af142e1",
   "metadata": {},
   "outputs": [
    {
     "data": {
      "text/plain": [
       "1        AAACCTGAGACATAAC-1-18\n",
       "2        AAACCTGCACAACGCC-1-18\n",
       "3        AAACCTGCAGACAAGC-1-18\n",
       "4        AAACCTGCAGCTCGAC-1-18\n",
       "5        AAACCTGCATGGATGG-1-18\n",
       "                 ...          \n",
       "56978                    c4788\n",
       "56979                    c4789\n",
       "56980                    c4793\n",
       "56981                    c4800\n",
       "56982                    c4812\n",
       "Name: 0, Length: 56982, dtype: object"
      ]
     },
     "execution_count": 21,
     "metadata": {},
     "output_type": "execute_result"
    }
   ],
   "source": [
    "counts_cellid[0]"
   ]
  },
  {
   "cell_type": "code",
   "execution_count": 22,
   "id": "f4746606-afeb-4b20-aeb6-889017ced99e",
   "metadata": {},
   "outputs": [],
   "source": [
    "adata.obs_names = counts_cellid[0]"
   ]
  },
  {
   "cell_type": "code",
   "execution_count": 23,
   "id": "cf2d3276-d7bd-4751-a3ec-17add716cdbe",
   "metadata": {},
   "outputs": [
    {
     "data": {
      "text/plain": [
       "AnnData object with n_obs × n_vars = 56982 × 30314"
      ]
     },
     "execution_count": 23,
     "metadata": {},
     "output_type": "execute_result"
    }
   ],
   "source": [
    "adata"
   ]
  },
  {
   "cell_type": "code",
   "execution_count": 24,
   "id": "40a38a39-277e-4ad1-8154-e57cc57fb8da",
   "metadata": {},
   "outputs": [
    {
     "name": "stdout",
     "output_type": "stream",
     "text": [
      "56982\n"
     ]
    },
    {
     "data": {
      "text/plain": [
       "array([ True,  True,  True, ...,  True,  True,  True])"
      ]
     },
     "execution_count": 24,
     "metadata": {},
     "output_type": "execute_result"
    }
   ],
   "source": [
    "mask = adata.obs_names.isin(meta['CellID']) # create mask\n",
    "print(len(mask))\n",
    "mask"
   ]
  },
  {
   "cell_type": "code",
   "execution_count": 25,
   "id": "9b2f1bba-464e-41f9-b273-40b306094b6a",
   "metadata": {},
   "outputs": [
    {
     "data": {
      "text/plain": [
       "53513"
      ]
     },
     "execution_count": 25,
     "metadata": {},
     "output_type": "execute_result"
    }
   ],
   "source": [
    "sum(mask) # sum counts number of \"True\" in boolean array, matches original notebook value!"
   ]
  },
  {
   "cell_type": "code",
   "execution_count": 26,
   "id": "af5fdb86-e634-4a69-9305-c2a351c89f7f",
   "metadata": {},
   "outputs": [
    {
     "data": {
      "text/plain": [
       "3469"
      ]
     },
     "execution_count": 26,
     "metadata": {},
     "output_type": "execute_result"
    }
   ],
   "source": [
    "sum(~mask)"
   ]
  },
  {
   "cell_type": "code",
   "execution_count": 27,
   "id": "3b3f783b-bd19-4c4b-a775-faf66f101e4f",
   "metadata": {},
   "outputs": [
    {
     "data": {
      "text/plain": [
       "<Compressed Sparse Row sparse matrix of dtype 'float64'\n",
       "\twith 7091798 stored elements and shape (3469, 30314)>"
      ]
     },
     "execution_count": 27,
     "metadata": {},
     "output_type": "execute_result"
    }
   ],
   "source": [
    "adata.X[~mask]"
   ]
  },
  {
   "cell_type": "code",
   "execution_count": 28,
   "id": "26f04f62-1799-49ab-86e6-35bdf6954131",
   "metadata": {},
   "outputs": [
    {
     "data": {
      "text/plain": [
       "(53513, 21)"
      ]
     },
     "execution_count": 28,
     "metadata": {},
     "output_type": "execute_result"
    }
   ],
   "source": [
    "meta.shape"
   ]
  },
  {
   "cell_type": "code",
   "execution_count": 29,
   "id": "2f171335-30f3-466d-80da-4209a9255117",
   "metadata": {},
   "outputs": [
    {
     "data": {
      "text/plain": [
       "(56982,)"
      ]
     },
     "execution_count": 29,
     "metadata": {},
     "output_type": "execute_result"
    }
   ],
   "source": [
    "mask.shape"
   ]
  },
  {
   "cell_type": "code",
   "execution_count": 30,
   "id": "a7f1a842-b82c-4c14-8bb6-42ea18162776",
   "metadata": {},
   "outputs": [
    {
     "name": "stdout",
     "output_type": "stream",
     "text": [
      "(53513, 30314) 30314\n"
     ]
    }
   ],
   "source": [
    "print(adata.X[mask].shape,len(gene_ids))"
   ]
  },
  {
   "cell_type": "code",
   "execution_count": 31,
   "id": "3bdcfd3b-0051-407a-bf69-5689283f36cc",
   "metadata": {},
   "outputs": [
    {
     "data": {
      "text/plain": [
       "Index(['AAACCTGAGACATAAC-1-18', 'AAACCTGCACAACGCC-1-18',\n",
       "       'AAACCTGCAGACAAGC-1-18', 'AAACCTGCAGCTCGAC-1-18',\n",
       "       'AAACCTGCATGGATGG-1-18', 'AAACCTGGTACGAAAT-1-18',\n",
       "       'AAACGGGAGATACACA-1-18', 'AAACGGGCAGGTGCCT-1-18',\n",
       "       'AAACGGGGTTTAGGAA-1-18', 'AAACGGGTCTTGCAAG-1-18',\n",
       "       ...\n",
       "       'c4781', 'c4784', 'c4785', 'c4786', 'c4787', 'c4788', 'c4789', 'c4793',\n",
       "       'c4800', 'c4812'],\n",
       "      dtype='object', length=56982)"
      ]
     },
     "execution_count": 31,
     "metadata": {},
     "output_type": "execute_result"
    }
   ],
   "source": [
    "adata.obs.index"
   ]
  },
  {
   "cell_type": "code",
   "execution_count": 75,
   "id": "7a9be1b3-1bde-41a7-b53a-df0ffde7b8a2",
   "metadata": {},
   "outputs": [
    {
     "ename": "AttributeError",
     "evalue": "'csr_matrix' object has no attribute 'index'",
     "output_type": "error",
     "traceback": [
      "\u001b[0;31m---------------------------------------------------------------------------\u001b[0m",
      "\u001b[0;31mAttributeError\u001b[0m                            Traceback (most recent call last)",
      "Cell \u001b[0;32mIn[75], line 1\u001b[0m\n\u001b[0;32m----> 1\u001b[0m adata\u001b[38;5;241m.\u001b[39mX[mask]\u001b[38;5;241m.\u001b[39mindex\n",
      "\u001b[0;31mAttributeError\u001b[0m: 'csr_matrix' object has no attribute 'index'"
     ]
    }
   ],
   "source": [
    "adata.X[mask]"
   ]
  },
  {
   "cell_type": "code",
   "execution_count": 72,
   "id": "ba7849ee-dfb7-4b19-a2b9-cc8d6faa3e88",
   "metadata": {},
   "outputs": [
    {
     "name": "stdout",
     "output_type": "stream",
     "text": [
      "CPU times: user 617 ms, sys: 791 ms, total: 1.41 s\n",
      "Wall time: 1.26 s\n"
     ]
    },
    {
     "name": "stderr",
     "output_type": "stream",
     "text": [
      "/home/ethan_unix_0/anaconda3/envs/2024-F1L/lib/python3.12/site-packages/anndata/_core/aligned_df.py:68: ImplicitModificationWarning: Transforming to str index.\n",
      "  warnings.warn(\"Transforming to str index.\", ImplicitModificationWarning)\n"
     ]
    }
   ],
   "source": [
    "%%time\n",
    "\n",
    "adata = anndata.read_h5ad('data/raw_adata_56982by30314.h5ad')\n",
    "\n",
    "# Instatiate the AnnData object with all the valid cell id's found in meta data\n",
    "adata = anndata.AnnData(X = adata.X[mask],\n",
    "                        var=gene_ids,\n",
    "                        oidx = meta.index)"
   ]
  },
  {
   "cell_type": "markdown",
   "id": "4adbacfd-08ec-481c-891a-1a8863800129",
   "metadata": {},
   "source": [
    "### Need to re-index meta to match the masked indexing then assign to anndata for obs"
   ]
  },
  {
   "cell_type": "code",
   "execution_count": 73,
   "id": "86a3e0b8-ef39-4c1f-84f1-5f8510cd21ad",
   "metadata": {},
   "outputs": [
    {
     "data": {
      "text/plain": [
       "Index(['0', '1', '2', '3', '4', '5', '6', '7', '8', '9',\n",
       "       ...\n",
       "       '53503', '53504', '53505', '53506', '53507', '53508', '53509', '53510',\n",
       "       '53511', '53512'],\n",
       "      dtype='object', length=53513)"
      ]
     },
     "execution_count": 73,
     "metadata": {},
     "output_type": "execute_result"
    }
   ],
   "source": [
    "adata.obs_names"
   ]
  },
  {
   "cell_type": "code",
   "execution_count": 57,
   "id": "83c62c7e-9bb4-401e-af7b-3251e10573de",
   "metadata": {},
   "outputs": [],
   "source": [
    "# check if the masking is working properly \n",
    "# (in all likelihood, some of the indices will be omitted such that\n",
    "# the ranging is not consecutive numbers but will skip from i to i+y instead\n",
    "# of i to i+1 for every index i)\n",
    "count_true = 0\n",
    "count_num_greater_than = 0\n",
    "for i in range(0,len(adata.obs_names)):\n",
    "    if str(i) == adata.obs_names[i]:\n",
    "        count_true += 1\n",
    "\n",
    "    if i == len(adata.obs_names)-1:\n",
    "        break\n",
    "    if int(adata.obs_names[i]) < int(adata.obs_names[i+1]):\n",
    "        count_num_greater_than += 1\n",
    "    else:\n",
    "        print(adata.obs_names[i], adata.obs_names[i+1])"
   ]
  },
  {
   "cell_type": "code",
   "execution_count": 69,
   "id": "b924a06d-6a94-4379-a0ce-760871181440",
   "metadata": {},
   "outputs": [
    {
     "name": "stdout",
     "output_type": "stream",
     "text": [
      "for adata.obs_names\n",
      "are indices consecutive? 53513 == 53513, True\n",
      "is i < i+1 for each index? 53512, 53512 == 53512, True\n"
     ]
    }
   ],
   "source": [
    "print('for adata.obs_names')\n",
    "print(f'are indices consecutive? {count_true} == {len(adata.obs_names)}, {count_true == len(adata.obs_names)}')\n",
    "print(f'is i < i+1 for each index? {count_num_greater_than}, {count_num_greater_than} == {len(adata.obs_names)-1}, {count_num_greater_than == len(adata.obs_names)-1}')\n",
    "# if evalautes to false then we know masking caused skipping of indices"
   ]
  },
  {
   "cell_type": "code",
   "execution_count": 68,
   "id": "da8b201a-5aaa-47ac-9e21-85a4438e755f",
   "metadata": {},
   "outputs": [
    {
     "name": "stdout",
     "output_type": "stream",
     "text": [
      "for meta.index\n",
      "are indices consecutive? 53513 == 53513, True\n",
      "is i < i+1 for each index? 53512, 53512 == 53512, True\n"
     ]
    }
   ],
   "source": [
    "# check if the masking is working properly \n",
    "# (in all likelihood, some of the indices will be omitted such that\n",
    "# the ranging is not consecutive numbers but will skip from i to i+y instead\n",
    "# of i to i+1 for every index i)\n",
    "count_true = 0\n",
    "count_num_greater_than = 0\n",
    "for i in range(0,len(meta.index)):\n",
    "    if i == meta.index[i]-1: # offset by one since we deleted row 0?\n",
    "        count_true += 1\n",
    "\n",
    "    if i == len(meta.index)-1:\n",
    "        break\n",
    "    if int(meta.index[i]) < int(meta.index[i+1]):\n",
    "        count_num_greater_than += 1\n",
    "    else:\n",
    "        print(meta.index[i], meta.index[i+1])\n",
    "\n",
    "print('for meta.index')\n",
    "print(f'are indices consecutive? {count_true} == {len(meta.index)}, {count_true == len(meta.index)}')\n",
    "print(f'is i < i+1 for each index? {count_num_greater_than}, {count_num_greater_than} == {len(meta.index)-1}, {count_num_greater_than == len(meta.index)-1}')\n",
    "# if evalautes to false then we know masking caused skipping of indices"
   ]
  },
  {
   "cell_type": "code",
   "execution_count": 63,
   "id": "84d4347e-b958-4448-b280-b8ea45362850",
   "metadata": {},
   "outputs": [
    {
     "name": "stdout",
     "output_type": "stream",
     "text": [
      "RangeIndex(start=1, stop=53514, step=1) 53513\n",
      "Index(['0', '1', '2', '3', '4', '5', '6', '7', '8', '9',\n",
      "       ...\n",
      "       '53503', '53504', '53505', '53506', '53507', '53508', '53509', '53510',\n",
      "       '53511', '53512'],\n",
      "      dtype='object', length=53513) 53513\n"
     ]
    }
   ],
   "source": [
    "print(meta.index,len(meta.index))\n",
    "print(adata.obs_names,len(adata.obs_names))"
   ]
  },
  {
   "cell_type": "code",
   "execution_count": 33,
   "id": "468b53c4-e893-43ae-ac48-23b4d3dc307d",
   "metadata": {},
   "outputs": [
    {
     "ename": "IndexError",
     "evalue": "boolean index did not match indexed array along dimension 0; dimension is 53513 but corresponding boolean dimension is 56982",
     "output_type": "error",
     "traceback": [
      "\u001b[0;31m---------------------------------------------------------------------------\u001b[0m",
      "\u001b[0;31mIndexError\u001b[0m                                Traceback (most recent call last)",
      "File \u001b[0;32m<timed exec>:1\u001b[0m\n",
      "File \u001b[0;32m~/anaconda3/envs/2024-F1L/lib/python3.12/site-packages/pandas/core/indexes/base.py:5416\u001b[0m, in \u001b[0;36mIndex.__getitem__\u001b[0;34m(self, key)\u001b[0m\n\u001b[1;32m   5407\u001b[0m         \u001b[38;5;28;01mif\u001b[39;00m \u001b[38;5;28mlen\u001b[39m(key) \u001b[38;5;241m==\u001b[39m \u001b[38;5;241m0\u001b[39m \u001b[38;5;129;01mand\u001b[39;00m \u001b[38;5;28mlen\u001b[39m(key) \u001b[38;5;241m!=\u001b[39m \u001b[38;5;28mlen\u001b[39m(\u001b[38;5;28mself\u001b[39m):\n\u001b[1;32m   5408\u001b[0m             warnings\u001b[38;5;241m.\u001b[39mwarn(\n\u001b[1;32m   5409\u001b[0m                 \u001b[38;5;124m\"\u001b[39m\u001b[38;5;124mUsing a boolean indexer with length 0 on an Index with \u001b[39m\u001b[38;5;124m\"\u001b[39m\n\u001b[1;32m   5410\u001b[0m                 \u001b[38;5;124m\"\u001b[39m\u001b[38;5;124mlength greater than 0 is deprecated and will raise in a \u001b[39m\u001b[38;5;124m\"\u001b[39m\n\u001b[0;32m   (...)\u001b[0m\n\u001b[1;32m   5413\u001b[0m                 stacklevel\u001b[38;5;241m=\u001b[39mfind_stack_level(),\n\u001b[1;32m   5414\u001b[0m             )\n\u001b[0;32m-> 5416\u001b[0m result \u001b[38;5;241m=\u001b[39m getitem(key)\n\u001b[1;32m   5417\u001b[0m \u001b[38;5;66;03m# Because we ruled out integer above, we always get an arraylike here\u001b[39;00m\n\u001b[1;32m   5418\u001b[0m \u001b[38;5;28;01mif\u001b[39;00m result\u001b[38;5;241m.\u001b[39mndim \u001b[38;5;241m>\u001b[39m \u001b[38;5;241m1\u001b[39m:\n",
      "\u001b[0;31mIndexError\u001b[0m: boolean index did not match indexed array along dimension 0; dimension is 53513 but corresponding boolean dimension is 56982"
     ]
    }
   ],
   "source": [
    "%%time\n",
    "meta = meta.reindex(index=adata.obs_names[mask])"
   ]
  },
  {
   "cell_type": "code",
   "execution_count": 26,
   "id": "ab1a55ea-3555-4888-a60e-9422415dbb9e",
   "metadata": {},
   "outputs": [
    {
     "data": {
      "text/plain": [
       "AnnData object with n_obs × n_vars = 53513 × 30314\n",
       "    obs: 'CellLine', 'Pool', 'Indication', 'Genes_expressed', 'Discrete_cluster_minpts5_eps1.8', 'Discrete_cluster_minpts5_eps1.5', 'Discrete_cluster_minpts5_eps1.2', 'CNA_subclone', 'SkinPig_score', 'EMTI_score', 'EMTII_score', 'EMTIII_score', 'IFNResp_score', 'p53Sen_score', 'EpiSen_score', 'StressResp_score', 'ProtMatu_score', 'ProtDegra_score', 'G1/S_score', 'G2/M_score'\n",
       "    var: 0"
      ]
     },
     "execution_count": 26,
     "metadata": {},
     "output_type": "execute_result"
    }
   ],
   "source": [
    "adata"
   ]
  },
  {
   "cell_type": "code",
   "execution_count": 27,
   "id": "b8197446-3267-4b54-951b-24330f79fa0f",
   "metadata": {},
   "outputs": [
    {
     "data": {
      "text/html": [
       "<div>\n",
       "<style scoped>\n",
       "    .dataframe tbody tr th:only-of-type {\n",
       "        vertical-align: middle;\n",
       "    }\n",
       "\n",
       "    .dataframe tbody tr th {\n",
       "        vertical-align: top;\n",
       "    }\n",
       "\n",
       "    .dataframe thead th {\n",
       "        text-align: right;\n",
       "    }\n",
       "</style>\n",
       "<table border=\"1\" class=\"dataframe\">\n",
       "  <thead>\n",
       "    <tr style=\"text-align: right;\">\n",
       "      <th></th>\n",
       "      <th>CellLine</th>\n",
       "      <th>Pool</th>\n",
       "      <th>Indication</th>\n",
       "      <th>Genes_expressed</th>\n",
       "      <th>Discrete_cluster_minpts5_eps1.8</th>\n",
       "      <th>Discrete_cluster_minpts5_eps1.5</th>\n",
       "      <th>Discrete_cluster_minpts5_eps1.2</th>\n",
       "      <th>CNA_subclone</th>\n",
       "      <th>SkinPig_score</th>\n",
       "      <th>EMTI_score</th>\n",
       "      <th>EMTII_score</th>\n",
       "      <th>EMTIII_score</th>\n",
       "      <th>IFNResp_score</th>\n",
       "      <th>p53Sen_score</th>\n",
       "      <th>EpiSen_score</th>\n",
       "      <th>StressResp_score</th>\n",
       "      <th>ProtMatu_score</th>\n",
       "      <th>ProtDegra_score</th>\n",
       "      <th>G1/S_score</th>\n",
       "      <th>G2/M_score</th>\n",
       "    </tr>\n",
       "  </thead>\n",
       "  <tbody>\n",
       "    <tr>\n",
       "      <th>1</th>\n",
       "      <td>NCIH2126_LUNG</td>\n",
       "      <td>18</td>\n",
       "      <td>Lung Cancer</td>\n",
       "      <td>4318</td>\n",
       "      <td>nan</td>\n",
       "      <td>nan</td>\n",
       "      <td>nan</td>\n",
       "      <td>nan</td>\n",
       "      <td>0.166</td>\n",
       "      <td>-0.045</td>\n",
       "      <td>-0.935</td>\n",
       "      <td>-0.935</td>\n",
       "      <td>0.130</td>\n",
       "      <td>0.619</td>\n",
       "      <td>1.869</td>\n",
       "      <td>-0.004</td>\n",
       "      <td>0.805</td>\n",
       "      <td>0.896</td>\n",
       "      <td>0.424</td>\n",
       "      <td>-1.125</td>\n",
       "    </tr>\n",
       "    <tr>\n",
       "      <th>2</th>\n",
       "      <td>NCIH2126_LUNG</td>\n",
       "      <td>18</td>\n",
       "      <td>Lung Cancer</td>\n",
       "      <td>5200</td>\n",
       "      <td>nan</td>\n",
       "      <td>nan</td>\n",
       "      <td>nan</td>\n",
       "      <td>nan</td>\n",
       "      <td>-0.213</td>\n",
       "      <td>0.035</td>\n",
       "      <td>-1.027</td>\n",
       "      <td>-1.027</td>\n",
       "      <td>0.066</td>\n",
       "      <td>1.049</td>\n",
       "      <td>1.267</td>\n",
       "      <td>0.252</td>\n",
       "      <td>1.299</td>\n",
       "      <td>1.610</td>\n",
       "      <td>0.624</td>\n",
       "      <td>-0.048</td>\n",
       "    </tr>\n",
       "    <tr>\n",
       "      <th>3</th>\n",
       "      <td>NCIH2126_LUNG</td>\n",
       "      <td>18</td>\n",
       "      <td>Lung Cancer</td>\n",
       "      <td>4004</td>\n",
       "      <td>nan</td>\n",
       "      <td>nan</td>\n",
       "      <td>nan</td>\n",
       "      <td>nan</td>\n",
       "      <td>-0.101</td>\n",
       "      <td>-0.183</td>\n",
       "      <td>-0.677</td>\n",
       "      <td>-0.677</td>\n",
       "      <td>0.304</td>\n",
       "      <td>0.822</td>\n",
       "      <td>2.401</td>\n",
       "      <td>0.141</td>\n",
       "      <td>0.451</td>\n",
       "      <td>1.225</td>\n",
       "      <td>-0.795</td>\n",
       "      <td>0.064</td>\n",
       "    </tr>\n",
       "    <tr>\n",
       "      <th>4</th>\n",
       "      <td>NCIH2126_LUNG</td>\n",
       "      <td>18</td>\n",
       "      <td>Lung Cancer</td>\n",
       "      <td>4295</td>\n",
       "      <td>nan</td>\n",
       "      <td>nan</td>\n",
       "      <td>nan</td>\n",
       "      <td>nan</td>\n",
       "      <td>-0.014</td>\n",
       "      <td>-0.093</td>\n",
       "      <td>-0.735</td>\n",
       "      <td>-0.735</td>\n",
       "      <td>0.094</td>\n",
       "      <td>0.834</td>\n",
       "      <td>2.282</td>\n",
       "      <td>0.150</td>\n",
       "      <td>0.267</td>\n",
       "      <td>0.892</td>\n",
       "      <td>-0.238</td>\n",
       "      <td>1.118</td>\n",
       "    </tr>\n",
       "    <tr>\n",
       "      <th>5</th>\n",
       "      <td>NCIH2126_LUNG</td>\n",
       "      <td>18</td>\n",
       "      <td>Lung Cancer</td>\n",
       "      <td>4842</td>\n",
       "      <td>nan</td>\n",
       "      <td>nan</td>\n",
       "      <td>nan</td>\n",
       "      <td>nan</td>\n",
       "      <td>0.006</td>\n",
       "      <td>-0.055</td>\n",
       "      <td>-0.821</td>\n",
       "      <td>-0.821</td>\n",
       "      <td>0.034</td>\n",
       "      <td>0.960</td>\n",
       "      <td>1.400</td>\n",
       "      <td>-0.012</td>\n",
       "      <td>-0.276</td>\n",
       "      <td>-0.428</td>\n",
       "      <td>0.267</td>\n",
       "      <td>0.791</td>\n",
       "    </tr>\n",
       "    <tr>\n",
       "      <th>...</th>\n",
       "      <td>...</td>\n",
       "      <td>...</td>\n",
       "      <td>...</td>\n",
       "      <td>...</td>\n",
       "      <td>...</td>\n",
       "      <td>...</td>\n",
       "      <td>...</td>\n",
       "      <td>...</td>\n",
       "      <td>...</td>\n",
       "      <td>...</td>\n",
       "      <td>...</td>\n",
       "      <td>...</td>\n",
       "      <td>...</td>\n",
       "      <td>...</td>\n",
       "      <td>...</td>\n",
       "      <td>...</td>\n",
       "      <td>...</td>\n",
       "      <td>...</td>\n",
       "      <td>...</td>\n",
       "      <td>...</td>\n",
       "    </tr>\n",
       "    <tr>\n",
       "      <th>53509</th>\n",
       "      <td>JHU006_UPPER_AERODIGESTIVE_TRACT</td>\n",
       "      <td>custom</td>\n",
       "      <td>Head and Neck Cancer</td>\n",
       "      <td>3343</td>\n",
       "      <td>nan</td>\n",
       "      <td>nan</td>\n",
       "      <td>nan</td>\n",
       "      <td>nan</td>\n",
       "      <td>0.018</td>\n",
       "      <td>-0.149</td>\n",
       "      <td>-0.505</td>\n",
       "      <td>-0.505</td>\n",
       "      <td>1.657</td>\n",
       "      <td>1.583</td>\n",
       "      <td>3.850</td>\n",
       "      <td>0.539</td>\n",
       "      <td>0.473</td>\n",
       "      <td>0.544</td>\n",
       "      <td>-1.079</td>\n",
       "      <td>-1.349</td>\n",
       "    </tr>\n",
       "    <tr>\n",
       "      <th>53510</th>\n",
       "      <td>JHU006_UPPER_AERODIGESTIVE_TRACT</td>\n",
       "      <td>custom</td>\n",
       "      <td>Head and Neck Cancer</td>\n",
       "      <td>6977</td>\n",
       "      <td>nan</td>\n",
       "      <td>nan</td>\n",
       "      <td>nan</td>\n",
       "      <td>nan</td>\n",
       "      <td>-0.098</td>\n",
       "      <td>-0.197</td>\n",
       "      <td>-0.876</td>\n",
       "      <td>-0.876</td>\n",
       "      <td>0.669</td>\n",
       "      <td>1.086</td>\n",
       "      <td>3.046</td>\n",
       "      <td>0.799</td>\n",
       "      <td>0.490</td>\n",
       "      <td>1.319</td>\n",
       "      <td>-0.370</td>\n",
       "      <td>0.057</td>\n",
       "    </tr>\n",
       "    <tr>\n",
       "      <th>53511</th>\n",
       "      <td>JHU006_UPPER_AERODIGESTIVE_TRACT</td>\n",
       "      <td>custom</td>\n",
       "      <td>Head and Neck Cancer</td>\n",
       "      <td>6638</td>\n",
       "      <td>nan</td>\n",
       "      <td>nan</td>\n",
       "      <td>nan</td>\n",
       "      <td>nan</td>\n",
       "      <td>-0.112</td>\n",
       "      <td>-0.107</td>\n",
       "      <td>-0.112</td>\n",
       "      <td>-0.112</td>\n",
       "      <td>0.610</td>\n",
       "      <td>0.693</td>\n",
       "      <td>2.289</td>\n",
       "      <td>0.650</td>\n",
       "      <td>0.729</td>\n",
       "      <td>1.143</td>\n",
       "      <td>-0.508</td>\n",
       "      <td>0.501</td>\n",
       "    </tr>\n",
       "    <tr>\n",
       "      <th>53512</th>\n",
       "      <td>JHU006_UPPER_AERODIGESTIVE_TRACT</td>\n",
       "      <td>custom</td>\n",
       "      <td>Head and Neck Cancer</td>\n",
       "      <td>4052</td>\n",
       "      <td>nan</td>\n",
       "      <td>nan</td>\n",
       "      <td>nan</td>\n",
       "      <td>nan</td>\n",
       "      <td>-0.244</td>\n",
       "      <td>0.442</td>\n",
       "      <td>1.981</td>\n",
       "      <td>1.981</td>\n",
       "      <td>0.523</td>\n",
       "      <td>-0.309</td>\n",
       "      <td>0.267</td>\n",
       "      <td>0.822</td>\n",
       "      <td>1.049</td>\n",
       "      <td>0.777</td>\n",
       "      <td>0.296</td>\n",
       "      <td>-0.936</td>\n",
       "    </tr>\n",
       "    <tr>\n",
       "      <th>53513</th>\n",
       "      <td>JHU006_UPPER_AERODIGESTIVE_TRACT</td>\n",
       "      <td>custom</td>\n",
       "      <td>Head and Neck Cancer</td>\n",
       "      <td>5062</td>\n",
       "      <td>nan</td>\n",
       "      <td>nan</td>\n",
       "      <td>nan</td>\n",
       "      <td>nan</td>\n",
       "      <td>-0.054</td>\n",
       "      <td>0.194</td>\n",
       "      <td>1.337</td>\n",
       "      <td>1.337</td>\n",
       "      <td>0.210</td>\n",
       "      <td>0.390</td>\n",
       "      <td>0.664</td>\n",
       "      <td>0.654</td>\n",
       "      <td>0.533</td>\n",
       "      <td>0.863</td>\n",
       "      <td>-0.551</td>\n",
       "      <td>-1.292</td>\n",
       "    </tr>\n",
       "  </tbody>\n",
       "</table>\n",
       "<p>53513 rows × 20 columns</p>\n",
       "</div>"
      ],
      "text/plain": [
       "                               CellLine    Pool            Indication  \\\n",
       "1                         NCIH2126_LUNG      18           Lung Cancer   \n",
       "2                         NCIH2126_LUNG      18           Lung Cancer   \n",
       "3                         NCIH2126_LUNG      18           Lung Cancer   \n",
       "4                         NCIH2126_LUNG      18           Lung Cancer   \n",
       "5                         NCIH2126_LUNG      18           Lung Cancer   \n",
       "...                                 ...     ...                   ...   \n",
       "53509  JHU006_UPPER_AERODIGESTIVE_TRACT  custom  Head and Neck Cancer   \n",
       "53510  JHU006_UPPER_AERODIGESTIVE_TRACT  custom  Head and Neck Cancer   \n",
       "53511  JHU006_UPPER_AERODIGESTIVE_TRACT  custom  Head and Neck Cancer   \n",
       "53512  JHU006_UPPER_AERODIGESTIVE_TRACT  custom  Head and Neck Cancer   \n",
       "53513  JHU006_UPPER_AERODIGESTIVE_TRACT  custom  Head and Neck Cancer   \n",
       "\n",
       "       Genes_expressed Discrete_cluster_minpts5_eps1.8  \\\n",
       "1                 4318                             nan   \n",
       "2                 5200                             nan   \n",
       "3                 4004                             nan   \n",
       "4                 4295                             nan   \n",
       "5                 4842                             nan   \n",
       "...                ...                             ...   \n",
       "53509             3343                             nan   \n",
       "53510             6977                             nan   \n",
       "53511             6638                             nan   \n",
       "53512             4052                             nan   \n",
       "53513             5062                             nan   \n",
       "\n",
       "      Discrete_cluster_minpts5_eps1.5 Discrete_cluster_minpts5_eps1.2  \\\n",
       "1                                 nan                             nan   \n",
       "2                                 nan                             nan   \n",
       "3                                 nan                             nan   \n",
       "4                                 nan                             nan   \n",
       "5                                 nan                             nan   \n",
       "...                               ...                             ...   \n",
       "53509                             nan                             nan   \n",
       "53510                             nan                             nan   \n",
       "53511                             nan                             nan   \n",
       "53512                             nan                             nan   \n",
       "53513                             nan                             nan   \n",
       "\n",
       "      CNA_subclone  SkinPig_score  EMTI_score  EMTII_score  EMTIII_score  \\\n",
       "1              nan          0.166      -0.045       -0.935        -0.935   \n",
       "2              nan         -0.213       0.035       -1.027        -1.027   \n",
       "3              nan         -0.101      -0.183       -0.677        -0.677   \n",
       "4              nan         -0.014      -0.093       -0.735        -0.735   \n",
       "5              nan          0.006      -0.055       -0.821        -0.821   \n",
       "...            ...            ...         ...          ...           ...   \n",
       "53509          nan          0.018      -0.149       -0.505        -0.505   \n",
       "53510          nan         -0.098      -0.197       -0.876        -0.876   \n",
       "53511          nan         -0.112      -0.107       -0.112        -0.112   \n",
       "53512          nan         -0.244       0.442        1.981         1.981   \n",
       "53513          nan         -0.054       0.194        1.337         1.337   \n",
       "\n",
       "       IFNResp_score  p53Sen_score  EpiSen_score  StressResp_score  \\\n",
       "1              0.130         0.619         1.869            -0.004   \n",
       "2              0.066         1.049         1.267             0.252   \n",
       "3              0.304         0.822         2.401             0.141   \n",
       "4              0.094         0.834         2.282             0.150   \n",
       "5              0.034         0.960         1.400            -0.012   \n",
       "...              ...           ...           ...               ...   \n",
       "53509          1.657         1.583         3.850             0.539   \n",
       "53510          0.669         1.086         3.046             0.799   \n",
       "53511          0.610         0.693         2.289             0.650   \n",
       "53512          0.523        -0.309         0.267             0.822   \n",
       "53513          0.210         0.390         0.664             0.654   \n",
       "\n",
       "       ProtMatu_score  ProtDegra_score  G1/S_score  G2/M_score  \n",
       "1               0.805            0.896       0.424      -1.125  \n",
       "2               1.299            1.610       0.624      -0.048  \n",
       "3               0.451            1.225      -0.795       0.064  \n",
       "4               0.267            0.892      -0.238       1.118  \n",
       "5              -0.276           -0.428       0.267       0.791  \n",
       "...               ...              ...         ...         ...  \n",
       "53509           0.473            0.544      -1.079      -1.349  \n",
       "53510           0.490            1.319      -0.370       0.057  \n",
       "53511           0.729            1.143      -0.508       0.501  \n",
       "53512           1.049            0.777       0.296      -0.936  \n",
       "53513           0.533            0.863      -0.551      -1.292  \n",
       "\n",
       "[53513 rows x 20 columns]"
      ]
     },
     "metadata": {},
     "output_type": "display_data"
    },
    {
     "data": {
      "text/html": [
       "<div>\n",
       "<style scoped>\n",
       "    .dataframe tbody tr th:only-of-type {\n",
       "        vertical-align: middle;\n",
       "    }\n",
       "\n",
       "    .dataframe tbody tr th {\n",
       "        vertical-align: top;\n",
       "    }\n",
       "\n",
       "    .dataframe thead th {\n",
       "        text-align: right;\n",
       "    }\n",
       "</style>\n",
       "<table border=\"1\" class=\"dataframe\">\n",
       "  <thead>\n",
       "    <tr style=\"text-align: right;\">\n",
       "      <th></th>\n",
       "      <th>0</th>\n",
       "    </tr>\n",
       "  </thead>\n",
       "  <tbody>\n",
       "    <tr>\n",
       "      <th>0</th>\n",
       "      <td>A1BG</td>\n",
       "    </tr>\n",
       "    <tr>\n",
       "      <th>1</th>\n",
       "      <td>A1BG-AS1</td>\n",
       "    </tr>\n",
       "    <tr>\n",
       "      <th>2</th>\n",
       "      <td>A1CF</td>\n",
       "    </tr>\n",
       "    <tr>\n",
       "      <th>3</th>\n",
       "      <td>A2M</td>\n",
       "    </tr>\n",
       "    <tr>\n",
       "      <th>4</th>\n",
       "      <td>A2M-AS1</td>\n",
       "    </tr>\n",
       "    <tr>\n",
       "      <th>...</th>\n",
       "      <td>...</td>\n",
       "    </tr>\n",
       "    <tr>\n",
       "      <th>30309</th>\n",
       "      <td>SPATA13</td>\n",
       "    </tr>\n",
       "    <tr>\n",
       "      <th>30310</th>\n",
       "      <td>TBC1D26</td>\n",
       "    </tr>\n",
       "    <tr>\n",
       "      <th>30311</th>\n",
       "      <td>TIMM10B</td>\n",
       "    </tr>\n",
       "    <tr>\n",
       "      <th>30312</th>\n",
       "      <td>TMBIM4</td>\n",
       "    </tr>\n",
       "    <tr>\n",
       "      <th>30313</th>\n",
       "      <td>TMEM256-PLSCR3</td>\n",
       "    </tr>\n",
       "  </tbody>\n",
       "</table>\n",
       "<p>30314 rows × 1 columns</p>\n",
       "</div>"
      ],
      "text/plain": [
       "                    0\n",
       "0                A1BG\n",
       "1            A1BG-AS1\n",
       "2                A1CF\n",
       "3                 A2M\n",
       "4             A2M-AS1\n",
       "...               ...\n",
       "30309         SPATA13\n",
       "30310         TBC1D26\n",
       "30311         TIMM10B\n",
       "30312          TMBIM4\n",
       "30313  TMEM256-PLSCR3\n",
       "\n",
       "[30314 rows x 1 columns]"
      ]
     },
     "metadata": {},
     "output_type": "display_data"
    }
   ],
   "source": [
    "display(adata.obs,adata.var)"
   ]
  },
  {
   "cell_type": "code",
   "execution_count": 28,
   "id": "b95ff01b-6ccf-4f61-8bed-b392b48bac25",
   "metadata": {
    "scrolled": true
   },
   "outputs": [
    {
     "data": {
      "text/html": [
       "<div>\n",
       "<style scoped>\n",
       "    .dataframe tbody tr th:only-of-type {\n",
       "        vertical-align: middle;\n",
       "    }\n",
       "\n",
       "    .dataframe tbody tr th {\n",
       "        vertical-align: top;\n",
       "    }\n",
       "\n",
       "    .dataframe thead th {\n",
       "        text-align: right;\n",
       "    }\n",
       "</style>\n",
       "<table border=\"1\" class=\"dataframe\">\n",
       "  <thead>\n",
       "    <tr style=\"text-align: right;\">\n",
       "      <th></th>\n",
       "      <th>GeneID</th>\n",
       "    </tr>\n",
       "  </thead>\n",
       "  <tbody>\n",
       "    <tr>\n",
       "      <th>0</th>\n",
       "      <td>A1BG</td>\n",
       "    </tr>\n",
       "    <tr>\n",
       "      <th>1</th>\n",
       "      <td>A1BG-AS1</td>\n",
       "    </tr>\n",
       "    <tr>\n",
       "      <th>2</th>\n",
       "      <td>A1CF</td>\n",
       "    </tr>\n",
       "    <tr>\n",
       "      <th>3</th>\n",
       "      <td>A2M</td>\n",
       "    </tr>\n",
       "    <tr>\n",
       "      <th>4</th>\n",
       "      <td>A2M-AS1</td>\n",
       "    </tr>\n",
       "    <tr>\n",
       "      <th>...</th>\n",
       "      <td>...</td>\n",
       "    </tr>\n",
       "    <tr>\n",
       "      <th>30309</th>\n",
       "      <td>SPATA13</td>\n",
       "    </tr>\n",
       "    <tr>\n",
       "      <th>30310</th>\n",
       "      <td>TBC1D26</td>\n",
       "    </tr>\n",
       "    <tr>\n",
       "      <th>30311</th>\n",
       "      <td>TIMM10B</td>\n",
       "    </tr>\n",
       "    <tr>\n",
       "      <th>30312</th>\n",
       "      <td>TMBIM4</td>\n",
       "    </tr>\n",
       "    <tr>\n",
       "      <th>30313</th>\n",
       "      <td>TMEM256-PLSCR3</td>\n",
       "    </tr>\n",
       "  </tbody>\n",
       "</table>\n",
       "<p>30314 rows × 1 columns</p>\n",
       "</div>"
      ],
      "text/plain": [
       "               GeneID\n",
       "0                A1BG\n",
       "1            A1BG-AS1\n",
       "2                A1CF\n",
       "3                 A2M\n",
       "4             A2M-AS1\n",
       "...               ...\n",
       "30309         SPATA13\n",
       "30310         TBC1D26\n",
       "30311         TIMM10B\n",
       "30312          TMBIM4\n",
       "30313  TMEM256-PLSCR3\n",
       "\n",
       "[30314 rows x 1 columns]"
      ]
     },
     "metadata": {},
     "output_type": "display_data"
    }
   ],
   "source": [
    "# rename the vars column from \"0\" to \"GeneID\"\n",
    "adata.var.rename(columns={0:'GeneID'}, inplace=True)\n",
    "display(adata.var)\n",
    "\n",
    "# adata.obs.rename(columns={0:'CellID'}, inplace=True)\n",
    "# display(adata.obs,adata.var)"
   ]
  },
  {
   "cell_type": "code",
   "execution_count": 29,
   "id": "b8215c5f-3744-40df-828e-0d6728a029ee",
   "metadata": {},
   "outputs": [
    {
     "name": "stdout",
     "output_type": "stream",
     "text": [
      "CPU times: user 928 ms, sys: 3.37 s, total: 4.3 s\n",
      "Wall time: 4.33 s\n"
     ]
    }
   ],
   "source": [
    "%%time \n",
    "# save the result\n",
    "adata.write('data/filtered_adata_53513by30314.h5ad')"
   ]
  },
  {
   "cell_type": "markdown",
   "id": "94f146ba-d963-49b0-bf68-504078f23991",
   "metadata": {},
   "source": [
    "### Load result cell 2\n",
    "Filtered so only cells from the metadata are in the anndata object"
   ]
  },
  {
   "cell_type": "code",
   "execution_count": 8,
   "id": "db4ea930-fe00-45e8-bda0-fc37ac4533f6",
   "metadata": {},
   "outputs": [
    {
     "name": "stdout",
     "output_type": "stream",
     "text": [
      "CPU times: user 562 ms, sys: 2.54 s, total: 3.1 s\n",
      "Wall time: 13.8 s\n"
     ]
    }
   ],
   "source": [
    "%%time\n",
    "# load the result\n",
    "adata = anndata.read_h5ad('data/filtered_adata_53513by30314.h5ad')"
   ]
  },
  {
   "cell_type": "code",
   "execution_count": 9,
   "id": "dd24b59f-6406-4b25-8a3b-7885e8e332a5",
   "metadata": {},
   "outputs": [
    {
     "name": "stdout",
     "output_type": "stream",
     "text": [
      "False\n"
     ]
    }
   ],
   "source": [
    "print(adata.obs_names.equals(meta.index))  # Should return True"
   ]
  },
  {
   "cell_type": "markdown",
   "id": "0c8ed419-c9d9-4a98-a3fe-36e5a75c1913",
   "metadata": {},
   "source": [
    "# verify agrees with original notebook\n",
    "check with [original notebook](https://github.com/deanslee/FigureOneLab/blob/main/kinker/240701_kinker_anndata.ipynb) that the adata object looks correct"
   ]
  },
  {
   "cell_type": "code",
   "execution_count": 31,
   "id": "274ddfce-23c6-4365-be9d-f5ee16a8ad29",
   "metadata": {},
   "outputs": [
    {
     "data": {
      "text/plain": [
       "AnnData object with n_obs × n_vars = 53513 × 30314\n",
       "    obs: 'CellLine', 'Pool', 'Indication', 'Genes_expressed', 'Discrete_cluster_minpts5_eps1.8', 'Discrete_cluster_minpts5_eps1.5', 'Discrete_cluster_minpts5_eps1.2', 'CNA_subclone', 'SkinPig_score', 'EMTI_score', 'EMTII_score', 'EMTIII_score', 'IFNResp_score', 'p53Sen_score', 'EpiSen_score', 'StressResp_score', 'ProtMatu_score', 'ProtDegra_score', 'G1/S_score', 'G2/M_score'\n",
       "    var: 'GeneID'"
      ]
     },
     "execution_count": 31,
     "metadata": {},
     "output_type": "execute_result"
    }
   ],
   "source": [
    "adata"
   ]
  },
  {
   "cell_type": "code",
   "execution_count": 32,
   "id": "7100ca0e-4811-4bed-976d-d3d0acfbf2b7",
   "metadata": {},
   "outputs": [
    {
     "data": {
      "text/plain": [
       "<Compressed Sparse Row sparse matrix of dtype 'float64'\n",
       "\twith 201078579 stored elements and shape (53513, 30314)>"
      ]
     },
     "execution_count": 32,
     "metadata": {},
     "output_type": "execute_result"
    }
   ],
   "source": [
    "adata.X"
   ]
  },
  {
   "cell_type": "code",
   "execution_count": 33,
   "id": "e24f2aa8-10f9-4d81-9722-be58ae171194",
   "metadata": {},
   "outputs": [
    {
     "data": {
      "text/plain": [
       "0.12395477531693727"
      ]
     },
     "execution_count": 33,
     "metadata": {},
     "output_type": "execute_result"
    }
   ],
   "source": [
    "201078579/(53513*30314) # shows we are saving lots of space by not storing zeroes; we are only storing 12% of the matrix!"
   ]
  },
  {
   "cell_type": "code",
   "execution_count": 34,
   "id": "f07c050e",
   "metadata": {
    "id": "f07c050e"
   },
   "outputs": [
    {
     "name": "stdout",
     "output_type": "stream",
     "text": [
      "CPU times: user 6.1 s, sys: 4.65 s, total: 10.7 s\n",
      "Wall time: 10.9 s\n"
     ]
    },
    {
     "data": {
      "text/plain": [
       "AnnData object with n_obs × n_vars = 53513 × 23081\n",
       "    obs: 'CellLine', 'Pool', 'Indication', 'Genes_expressed', 'Discrete_cluster_minpts5_eps1.8', 'Discrete_cluster_minpts5_eps1.5', 'Discrete_cluster_minpts5_eps1.2', 'CNA_subclone', 'SkinPig_score', 'EMTI_score', 'EMTII_score', 'EMTIII_score', 'IFNResp_score', 'p53Sen_score', 'EpiSen_score', 'StressResp_score', 'ProtMatu_score', 'ProtDegra_score', 'G1/S_score', 'G2/M_score', 'n_genes'\n",
       "    var: 'GeneID', 'n_cells'"
      ]
     },
     "execution_count": 34,
     "metadata": {},
     "output_type": "execute_result"
    }
   ],
   "source": [
    "%%time\n",
    "sc.pp.filter_genes(adata, min_cells=10)\n",
    "sc.pp.filter_cells(adata, min_genes=200)\n",
    "adata"
   ]
  },
  {
   "cell_type": "code",
   "execution_count": 35,
   "id": "7caa8473",
   "metadata": {},
   "outputs": [],
   "source": [
    "adata.write(cwd+'/outs/250102_kinker_anndata.h5ad')"
   ]
  },
  {
   "cell_type": "code",
   "execution_count": null,
   "id": "9dbd8d9a-d8ac-4689-9d1b-56ac9eed9aff",
   "metadata": {},
   "outputs": [],
   "source": []
  }
 ],
 "metadata": {
  "colab": {
   "provenance": []
  },
  "kernelspec": {
   "display_name": "Python 3 (ipykernel)",
   "language": "python",
   "name": "python3"
  },
  "language_info": {
   "codemirror_mode": {
    "name": "ipython",
    "version": 3
   },
   "file_extension": ".py",
   "mimetype": "text/x-python",
   "name": "python",
   "nbconvert_exporter": "python",
   "pygments_lexer": "ipython3",
   "version": "3.12.5"
  }
 },
 "nbformat": 4,
 "nbformat_minor": 5
}
